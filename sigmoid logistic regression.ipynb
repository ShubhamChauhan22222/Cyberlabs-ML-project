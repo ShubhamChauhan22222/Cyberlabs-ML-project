{
 "cells": [
  {
   "cell_type": "markdown",
   "id": "e576e2ef",
   "metadata": {},
   "source": [
    "# Importing data"
   ]
  },
  {
   "cell_type": "code",
   "execution_count": 1,
   "id": "32feaff9",
   "metadata": {},
   "outputs": [],
   "source": [
    "import pandas as pd\n",
    "import numpy as np\n",
    "import matplotlib.pyplot as plt\n",
    "import math"
   ]
  },
  {
   "cell_type": "code",
   "execution_count": 2,
   "id": "51db156a",
   "metadata": {},
   "outputs": [],
   "source": [
    "data = pd.read_csv('classification_train.csv')"
   ]
  },
  {
   "cell_type": "code",
   "execution_count": 3,
   "id": "faa34e58",
   "metadata": {},
   "outputs": [
    {
     "data": {
      "text/html": [
       "<div>\n",
       "<style scoped>\n",
       "    .dataframe tbody tr th:only-of-type {\n",
       "        vertical-align: middle;\n",
       "    }\n",
       "\n",
       "    .dataframe tbody tr th {\n",
       "        vertical-align: top;\n",
       "    }\n",
       "\n",
       "    .dataframe thead th {\n",
       "        text-align: right;\n",
       "    }\n",
       "</style>\n",
       "<table border=\"1\" class=\"dataframe\">\n",
       "  <thead>\n",
       "    <tr style=\"text-align: right;\">\n",
       "      <th></th>\n",
       "      <th>Unnamed: 0</th>\n",
       "      <th>label</th>\n",
       "      <th>pixel1</th>\n",
       "      <th>pixel2</th>\n",
       "      <th>pixel3</th>\n",
       "      <th>pixel4</th>\n",
       "      <th>pixel5</th>\n",
       "      <th>pixel6</th>\n",
       "      <th>pixel7</th>\n",
       "      <th>pixel8</th>\n",
       "      <th>...</th>\n",
       "      <th>pixel775</th>\n",
       "      <th>pixel776</th>\n",
       "      <th>pixel777</th>\n",
       "      <th>pixel778</th>\n",
       "      <th>pixel779</th>\n",
       "      <th>pixel780</th>\n",
       "      <th>pixel781</th>\n",
       "      <th>pixel782</th>\n",
       "      <th>pixel783</th>\n",
       "      <th>pixel784</th>\n",
       "    </tr>\n",
       "  </thead>\n",
       "  <tbody>\n",
       "    <tr>\n",
       "      <th>0</th>\n",
       "      <td>0</td>\n",
       "      <td>8</td>\n",
       "      <td>0</td>\n",
       "      <td>0</td>\n",
       "      <td>0</td>\n",
       "      <td>0</td>\n",
       "      <td>0</td>\n",
       "      <td>0</td>\n",
       "      <td>0</td>\n",
       "      <td>0</td>\n",
       "      <td>...</td>\n",
       "      <td>0</td>\n",
       "      <td>0</td>\n",
       "      <td>0</td>\n",
       "      <td>0</td>\n",
       "      <td>0</td>\n",
       "      <td>0</td>\n",
       "      <td>0</td>\n",
       "      <td>0</td>\n",
       "      <td>0</td>\n",
       "      <td>0</td>\n",
       "    </tr>\n",
       "    <tr>\n",
       "      <th>1</th>\n",
       "      <td>1</td>\n",
       "      <td>4</td>\n",
       "      <td>0</td>\n",
       "      <td>0</td>\n",
       "      <td>0</td>\n",
       "      <td>0</td>\n",
       "      <td>0</td>\n",
       "      <td>0</td>\n",
       "      <td>0</td>\n",
       "      <td>0</td>\n",
       "      <td>...</td>\n",
       "      <td>70</td>\n",
       "      <td>27</td>\n",
       "      <td>0</td>\n",
       "      <td>0</td>\n",
       "      <td>0</td>\n",
       "      <td>0</td>\n",
       "      <td>0</td>\n",
       "      <td>0</td>\n",
       "      <td>0</td>\n",
       "      <td>0</td>\n",
       "    </tr>\n",
       "    <tr>\n",
       "      <th>2</th>\n",
       "      <td>2</td>\n",
       "      <td>1</td>\n",
       "      <td>0</td>\n",
       "      <td>0</td>\n",
       "      <td>0</td>\n",
       "      <td>0</td>\n",
       "      <td>0</td>\n",
       "      <td>0</td>\n",
       "      <td>0</td>\n",
       "      <td>0</td>\n",
       "      <td>...</td>\n",
       "      <td>35</td>\n",
       "      <td>0</td>\n",
       "      <td>0</td>\n",
       "      <td>0</td>\n",
       "      <td>0</td>\n",
       "      <td>0</td>\n",
       "      <td>0</td>\n",
       "      <td>0</td>\n",
       "      <td>0</td>\n",
       "      <td>0</td>\n",
       "    </tr>\n",
       "    <tr>\n",
       "      <th>3</th>\n",
       "      <td>3</td>\n",
       "      <td>8</td>\n",
       "      <td>0</td>\n",
       "      <td>0</td>\n",
       "      <td>0</td>\n",
       "      <td>0</td>\n",
       "      <td>0</td>\n",
       "      <td>0</td>\n",
       "      <td>0</td>\n",
       "      <td>0</td>\n",
       "      <td>...</td>\n",
       "      <td>0</td>\n",
       "      <td>0</td>\n",
       "      <td>0</td>\n",
       "      <td>0</td>\n",
       "      <td>0</td>\n",
       "      <td>0</td>\n",
       "      <td>0</td>\n",
       "      <td>0</td>\n",
       "      <td>0</td>\n",
       "      <td>0</td>\n",
       "    </tr>\n",
       "    <tr>\n",
       "      <th>4</th>\n",
       "      <td>4</td>\n",
       "      <td>2</td>\n",
       "      <td>0</td>\n",
       "      <td>0</td>\n",
       "      <td>0</td>\n",
       "      <td>0</td>\n",
       "      <td>1</td>\n",
       "      <td>0</td>\n",
       "      <td>3</td>\n",
       "      <td>0</td>\n",
       "      <td>...</td>\n",
       "      <td>2</td>\n",
       "      <td>0</td>\n",
       "      <td>0</td>\n",
       "      <td>91</td>\n",
       "      <td>117</td>\n",
       "      <td>7</td>\n",
       "      <td>0</td>\n",
       "      <td>0</td>\n",
       "      <td>0</td>\n",
       "      <td>0</td>\n",
       "    </tr>\n",
       "    <tr>\n",
       "      <th>5</th>\n",
       "      <td>5</td>\n",
       "      <td>0</td>\n",
       "      <td>0</td>\n",
       "      <td>0</td>\n",
       "      <td>0</td>\n",
       "      <td>0</td>\n",
       "      <td>0</td>\n",
       "      <td>0</td>\n",
       "      <td>0</td>\n",
       "      <td>0</td>\n",
       "      <td>...</td>\n",
       "      <td>37</td>\n",
       "      <td>0</td>\n",
       "      <td>0</td>\n",
       "      <td>0</td>\n",
       "      <td>0</td>\n",
       "      <td>0</td>\n",
       "      <td>0</td>\n",
       "      <td>0</td>\n",
       "      <td>0</td>\n",
       "      <td>0</td>\n",
       "    </tr>\n",
       "    <tr>\n",
       "      <th>6</th>\n",
       "      <td>6</td>\n",
       "      <td>7</td>\n",
       "      <td>0</td>\n",
       "      <td>0</td>\n",
       "      <td>0</td>\n",
       "      <td>0</td>\n",
       "      <td>0</td>\n",
       "      <td>0</td>\n",
       "      <td>0</td>\n",
       "      <td>0</td>\n",
       "      <td>...</td>\n",
       "      <td>0</td>\n",
       "      <td>0</td>\n",
       "      <td>0</td>\n",
       "      <td>0</td>\n",
       "      <td>0</td>\n",
       "      <td>0</td>\n",
       "      <td>0</td>\n",
       "      <td>0</td>\n",
       "      <td>0</td>\n",
       "      <td>0</td>\n",
       "    </tr>\n",
       "    <tr>\n",
       "      <th>7</th>\n",
       "      <td>7</td>\n",
       "      <td>4</td>\n",
       "      <td>0</td>\n",
       "      <td>0</td>\n",
       "      <td>0</td>\n",
       "      <td>0</td>\n",
       "      <td>0</td>\n",
       "      <td>0</td>\n",
       "      <td>0</td>\n",
       "      <td>0</td>\n",
       "      <td>...</td>\n",
       "      <td>0</td>\n",
       "      <td>0</td>\n",
       "      <td>0</td>\n",
       "      <td>119</td>\n",
       "      <td>218</td>\n",
       "      <td>212</td>\n",
       "      <td>2</td>\n",
       "      <td>0</td>\n",
       "      <td>0</td>\n",
       "      <td>0</td>\n",
       "    </tr>\n",
       "    <tr>\n",
       "      <th>8</th>\n",
       "      <td>8</td>\n",
       "      <td>1</td>\n",
       "      <td>0</td>\n",
       "      <td>0</td>\n",
       "      <td>0</td>\n",
       "      <td>0</td>\n",
       "      <td>0</td>\n",
       "      <td>0</td>\n",
       "      <td>4</td>\n",
       "      <td>0</td>\n",
       "      <td>...</td>\n",
       "      <td>148</td>\n",
       "      <td>127</td>\n",
       "      <td>115</td>\n",
       "      <td>89</td>\n",
       "      <td>0</td>\n",
       "      <td>0</td>\n",
       "      <td>0</td>\n",
       "      <td>0</td>\n",
       "      <td>0</td>\n",
       "      <td>0</td>\n",
       "    </tr>\n",
       "    <tr>\n",
       "      <th>9</th>\n",
       "      <td>9</td>\n",
       "      <td>7</td>\n",
       "      <td>0</td>\n",
       "      <td>0</td>\n",
       "      <td>0</td>\n",
       "      <td>0</td>\n",
       "      <td>0</td>\n",
       "      <td>0</td>\n",
       "      <td>0</td>\n",
       "      <td>0</td>\n",
       "      <td>...</td>\n",
       "      <td>0</td>\n",
       "      <td>0</td>\n",
       "      <td>0</td>\n",
       "      <td>0</td>\n",
       "      <td>0</td>\n",
       "      <td>0</td>\n",
       "      <td>0</td>\n",
       "      <td>0</td>\n",
       "      <td>0</td>\n",
       "      <td>0</td>\n",
       "    </tr>\n",
       "  </tbody>\n",
       "</table>\n",
       "<p>10 rows × 786 columns</p>\n",
       "</div>"
      ],
      "text/plain": [
       "   Unnamed: 0  label  pixel1  pixel2  pixel3  pixel4  pixel5  pixel6  pixel7  \\\n",
       "0           0      8       0       0       0       0       0       0       0   \n",
       "1           1      4       0       0       0       0       0       0       0   \n",
       "2           2      1       0       0       0       0       0       0       0   \n",
       "3           3      8       0       0       0       0       0       0       0   \n",
       "4           4      2       0       0       0       0       1       0       3   \n",
       "5           5      0       0       0       0       0       0       0       0   \n",
       "6           6      7       0       0       0       0       0       0       0   \n",
       "7           7      4       0       0       0       0       0       0       0   \n",
       "8           8      1       0       0       0       0       0       0       4   \n",
       "9           9      7       0       0       0       0       0       0       0   \n",
       "\n",
       "   pixel8  ...  pixel775  pixel776  pixel777  pixel778  pixel779  pixel780  \\\n",
       "0       0  ...         0         0         0         0         0         0   \n",
       "1       0  ...        70        27         0         0         0         0   \n",
       "2       0  ...        35         0         0         0         0         0   \n",
       "3       0  ...         0         0         0         0         0         0   \n",
       "4       0  ...         2         0         0        91       117         7   \n",
       "5       0  ...        37         0         0         0         0         0   \n",
       "6       0  ...         0         0         0         0         0         0   \n",
       "7       0  ...         0         0         0       119       218       212   \n",
       "8       0  ...       148       127       115        89         0         0   \n",
       "9       0  ...         0         0         0         0         0         0   \n",
       "\n",
       "   pixel781  pixel782  pixel783  pixel784  \n",
       "0         0         0         0         0  \n",
       "1         0         0         0         0  \n",
       "2         0         0         0         0  \n",
       "3         0         0         0         0  \n",
       "4         0         0         0         0  \n",
       "5         0         0         0         0  \n",
       "6         0         0         0         0  \n",
       "7         2         0         0         0  \n",
       "8         0         0         0         0  \n",
       "9         0         0         0         0  \n",
       "\n",
       "[10 rows x 786 columns]"
      ]
     },
     "execution_count": 3,
     "metadata": {},
     "output_type": "execute_result"
    }
   ],
   "source": [
    "data.head(10)"
   ]
  },
  {
   "cell_type": "code",
   "execution_count": 4,
   "id": "0da2b9cd",
   "metadata": {},
   "outputs": [
    {
     "data": {
      "text/plain": [
       "30000"
      ]
     },
     "execution_count": 4,
     "metadata": {},
     "output_type": "execute_result"
    }
   ],
   "source": [
    "m=len(data)\n",
    "m"
   ]
  },
  {
   "cell_type": "code",
   "execution_count": 5,
   "id": "1de9f29b",
   "metadata": {},
   "outputs": [],
   "source": [
    "#importing dataset\n",
    "data = pd.read_csv('classification_train.csv')\n",
    "x = data.iloc[:20000,2:786].values\n",
    "\n",
    "y = data.iloc[:20000,1].values\n",
    "y=y[np.newaxis,:] #y = y.reshape(y.shape[0],1)\n",
    "y=y.T"
   ]
  },
  {
   "cell_type": "code",
   "execution_count": 6,
   "id": "18f302cd",
   "metadata": {},
   "outputs": [
    {
     "data": {
      "text/plain": [
       "((20000, 784), (20000, 1))"
      ]
     },
     "execution_count": 6,
     "metadata": {},
     "output_type": "execute_result"
    }
   ],
   "source": [
    "m, n = x.shape\n",
    "x.shape,y.shape "
   ]
  },
  {
   "cell_type": "markdown",
   "id": "de13570c",
   "metadata": {},
   "source": [
    "# Pre-Processing of data"
   ]
  },
  {
   "cell_type": "code",
   "execution_count": 7,
   "id": "fa776b8c",
   "metadata": {},
   "outputs": [
    {
     "data": {
      "text/plain": [
       "(20000, 784)"
      ]
     },
     "execution_count": 7,
     "metadata": {},
     "output_type": "execute_result"
    }
   ],
   "source": [
    "mu     = np.mean(x,axis=0)   \n",
    "sigma  = np.std(x,axis=0) \n",
    "x_mean = (x - mu)\n",
    "x_norm = (x - mu)/sigma\n",
    "X=x_norm\n",
    "X.shape"
   ]
  },
  {
   "cell_type": "code",
   "execution_count": 8,
   "id": "ae3b3655",
   "metadata": {},
   "outputs": [
    {
     "data": {
      "text/plain": [
       "(20000, 1)"
      ]
     },
     "execution_count": 8,
     "metadata": {},
     "output_type": "execute_result"
    }
   ],
   "source": [
    "x1=np.ones((m,1))\n",
    "x1.shape"
   ]
  },
  {
   "cell_type": "code",
   "execution_count": 9,
   "id": "b4abc3bc",
   "metadata": {},
   "outputs": [
    {
     "data": {
      "text/plain": [
       "((20000, 785),\n",
       " array([[ 1.        , -0.01249488, -0.0247104 , ..., -0.15659207,\n",
       "         -0.08943918, -0.03884714],\n",
       "        [ 1.        , -0.01249488, -0.0247104 , ..., -0.15659207,\n",
       "         -0.08943918, -0.03884714],\n",
       "        [ 1.        , -0.01249488, -0.0247104 , ..., -0.15659207,\n",
       "         -0.08943918, -0.03884714],\n",
       "        ...,\n",
       "        [ 1.        , -0.01249488, -0.0247104 , ..., -0.15659207,\n",
       "         -0.08943918, -0.03884714],\n",
       "        [ 1.        , -0.01249488, -0.0247104 , ..., -0.15659207,\n",
       "         -0.08943918, -0.03884714],\n",
       "        [ 1.        , -0.01249488, -0.0247104 , ..., -0.15659207,\n",
       "         -0.08943918, -0.03884714]]))"
      ]
     },
     "execution_count": 9,
     "metadata": {},
     "output_type": "execute_result"
    }
   ],
   "source": [
    "X=np.concatenate((x1,X),axis=1)\n",
    "X.shape,X"
   ]
  },
  {
   "cell_type": "code",
   "execution_count": 10,
   "id": "59af0deb",
   "metadata": {},
   "outputs": [],
   "source": [
    "\"\"\" Y: onehot encoded \"\"\"\n",
    "unique_values=(np.unique(y))\n",
    "Y=np.zeros((m,len(unique_values)))\n",
    "for i in range(m):\n",
    "    for j in range(len(unique_values)):\n",
    "        if y[i][0]==unique_values[j]: Y[i][unique_values[j]]=1"
   ]
  },
  {
   "cell_type": "markdown",
   "id": "c5c9e511",
   "metadata": {},
   "source": [
    "# Cost function"
   ]
  },
  {
   "cell_type": "code",
   "execution_count": 11,
   "id": "2a90ca13",
   "metadata": {},
   "outputs": [],
   "source": [
    "def sigmoid(z):\n",
    "   \n",
    "    g=1/(1+(np.exp(-z)))\n",
    "      \n",
    "    return g"
   ]
  },
  {
   "cell_type": "code",
   "execution_count": 12,
   "id": "73959aa2",
   "metadata": {},
   "outputs": [],
   "source": [
    "def prediction(X, theta):\n",
    "    z = np.dot(X, theta)\n",
    "    return sigmoid(z)"
   ]
  },
  {
   "cell_type": "code",
   "execution_count": 13,
   "id": "23293619",
   "metadata": {},
   "outputs": [],
   "source": [
    "def cost_function(theta, X, Y):\n",
    "    m = X.shape[0]\n",
    "    y_hat = prediction(X, theta)\n",
    "    return -(1/m) * (np.sum(Y*np.log(y_hat) + (1-Y)*np.log(1-y_hat)))"
   ]
  },
  {
   "cell_type": "code",
   "execution_count": null,
   "id": "8fed36dc",
   "metadata": {},
   "outputs": [],
   "source": []
  },
  {
   "cell_type": "markdown",
   "id": "238d5d3c",
   "metadata": {},
   "source": [
    "# Updating Parameters"
   ]
  },
  {
   "cell_type": "code",
   "execution_count": 14,
   "id": "52675aa9",
   "metadata": {},
   "outputs": [],
   "source": [
    "def gradient(theta, X, Y):\n",
    "    m = X.shape[0]\n",
    "    y_hat = prediction(X, theta)\n",
    "    return (1/m) * np.dot(X.T, y_hat - Y)"
   ]
  },
  {
   "cell_type": "code",
   "execution_count": 15,
   "id": "9267fed4",
   "metadata": {},
   "outputs": [],
   "source": [
    "def gradient_descent(X, Y, max_iter, eta):\n",
    "   \n",
    "    cost_list = []\n",
    "    theta = (np.random.randn(785, 10))*0.01\n",
    "\n",
    "    for i in range(max_iter):\n",
    "        theta= theta - eta * gradient(theta, X, Y)\n",
    "        \n",
    "        cost = cost_function(theta, X, Y)\n",
    "        \n",
    "        \n",
    "        cost_list.append(cost)\n",
    "        \n",
    "        if(i%(max_iter/10) == 0):\n",
    "            print(\"Cost after\", i, \"iterations is :\", cost)\n",
    "        \n",
    "        \n",
    "        \n",
    "        \n",
    "    return theta,cost_list"
   ]
  },
  {
   "cell_type": "code",
   "execution_count": 16,
   "id": "13a7b70f",
   "metadata": {},
   "outputs": [
    {
     "name": "stdout",
     "output_type": "stream",
     "text": [
      "Cost after 0 iterations is : 6.795872091517176\n",
      "Cost after 80 iterations is : 4.698562919905196\n",
      "Cost after 160 iterations is : 3.893998688922301\n",
      "Cost after 240 iterations is : 3.3553306716388005\n",
      "Cost after 320 iterations is : 2.9673736315167276\n",
      "Cost after 400 iterations is : 2.6758177848107096\n",
      "Cost after 480 iterations is : 2.449798942727746\n",
      "Cost after 560 iterations is : 2.270198929184516\n",
      "Cost after 640 iterations is : 2.12451974322447\n",
      "Cost after 720 iterations is : 2.0042729877193923\n"
     ]
    },
    {
     "data": {
      "text/plain": [
       "(785, 10)"
      ]
     },
     "execution_count": 16,
     "metadata": {},
     "output_type": "execute_result"
    }
   ],
   "source": [
    "max_iter=800\n",
    "eta=0.01\n",
    "theta_final,cost_list=gradient_descent(X, Y, max_iter, eta)\n",
    "theta_final.shape"
   ]
  },
  {
   "cell_type": "code",
   "execution_count": 17,
   "id": "e947f496",
   "metadata": {},
   "outputs": [
    {
     "data": {
      "image/png": "[encoded data removed]",
      "text/plain": [
       "<Figure size 640x480 with 1 Axes>"
      ]
     },
     "metadata": {},
     "output_type": "display_data"
    }
   ],
   "source": [
    "t = np.arange(0, max_iter)\n",
    "plt.plot(t,cost_list)\n",
    "plt.xlabel(\"iterations\")\n",
    "plt.ylabel(\"cost\")\n",
    "plt.title(\"iterations vs cost\")\n",
    "\n",
    "plt.show()"
   ]
  },
  {
   "cell_type": "code",
   "execution_count": null,
   "id": "9ec1f91e",
   "metadata": {},
   "outputs": [],
   "source": []
  },
  {
   "cell_type": "markdown",
   "id": "f4703eba",
   "metadata": {},
   "source": [
    "# Accuracy on train data"
   ]
  },
  {
   "cell_type": "code",
   "execution_count": 18,
   "id": "e4339a4c",
   "metadata": {},
   "outputs": [
    {
     "data": {
      "text/plain": [
       "(20000, 10)"
      ]
     },
     "execution_count": 18,
     "metadata": {},
     "output_type": "execute_result"
    }
   ],
   "source": [
    "Z=prediction(X, theta_final)\n",
    "Z.shape"
   ]
  },
  {
   "cell_type": "code",
   "execution_count": 19,
   "id": "a06c9b99",
   "metadata": {},
   "outputs": [],
   "source": [
    "pred=np.argmax(Z, axis=1)"
   ]
  },
  {
   "cell_type": "code",
   "execution_count": 20,
   "id": "13ff5339",
   "metadata": {},
   "outputs": [
    {
     "name": "stdout",
     "output_type": "stream",
     "text": [
      "16234\n"
     ]
    }
   ],
   "source": [
    "count=0\n",
    "for i in range(m):\n",
    "    \n",
    "    if y[i,0] ==pred[i]:\n",
    "        count+=1 \n",
    "print(count)"
   ]
  },
  {
   "cell_type": "code",
   "execution_count": 21,
   "id": "d9af101a",
   "metadata": {},
   "outputs": [
    {
     "name": "stdout",
     "output_type": "stream",
     "text": [
      "Accuracy on test data = 82%\n",
      "Accuracy on test data = 81.17%\n"
     ]
    }
   ],
   "source": [
    "accuracy=(count/m)*100\n",
    "print('Accuracy on test data = '+str(math.ceil(accuracy))+'%')\n",
    "print('Accuracy on test data = '+str(round(accuracy,2))+'%')"
   ]
  },
  {
   "cell_type": "code",
   "execution_count": null,
   "id": "a108c959",
   "metadata": {},
   "outputs": [],
   "source": []
  },
  {
   "cell_type": "code",
   "execution_count": null,
   "id": "de3c8b66",
   "metadata": {},
   "outputs": [],
   "source": []
  },
  {
   "cell_type": "markdown",
   "id": "6c0872d8",
   "metadata": {},
   "source": [
    "# Accuracy on test data"
   ]
  },
  {
   "cell_type": "code",
   "execution_count": 22,
   "id": "6542d39f",
   "metadata": {},
   "outputs": [
    {
     "data": {
      "text/plain": [
       "(10000, 784)"
      ]
     },
     "execution_count": 22,
     "metadata": {},
     "output_type": "execute_result"
    }
   ],
   "source": [
    "x_test = data.iloc[20000:,2:].values\n",
    "\n",
    "y_test = data.iloc[20000:,1].values\n",
    "y_test = y_test.reshape(y_test.shape[0],1)\n",
    "m_test,n_test=x_test.shape\n",
    "x_test.shape"
   ]
  },
  {
   "cell_type": "code",
   "execution_count": 23,
   "id": "f6faf248",
   "metadata": {},
   "outputs": [
    {
     "data": {
      "text/plain": [
       "(10000, 784)"
      ]
     },
     "execution_count": 23,
     "metadata": {},
     "output_type": "execute_result"
    }
   ],
   "source": [
    "mu     = np.mean(x_test,axis=0)   \n",
    "sigma  = np.std(x_test,axis=0) \n",
    "x_mean = (x_test - mu)\n",
    "x_norm = (x_test - mu)/sigma\n",
    "x_test=x_norm\n",
    "x_test.shape"
   ]
  },
  {
   "cell_type": "code",
   "execution_count": 24,
   "id": "76564157",
   "metadata": {},
   "outputs": [
    {
     "data": {
      "text/plain": [
       "(10000, 785)"
      ]
     },
     "execution_count": 24,
     "metadata": {},
     "output_type": "execute_result"
    }
   ],
   "source": [
    "x2=np.ones((m_test,1))\n",
    "x_test=np.concatenate((x2,x_test),axis=1)\n",
    "x_test.shape"
   ]
  },
  {
   "cell_type": "code",
   "execution_count": 25,
   "id": "bb6bb021",
   "metadata": {},
   "outputs": [
    {
     "data": {
      "text/plain": [
       "(10000, 10)"
      ]
     },
     "execution_count": 25,
     "metadata": {},
     "output_type": "execute_result"
    }
   ],
   "source": [
    "Z_test=prediction(x_test, theta_final)\n",
    "Z_test.shape"
   ]
  },
  {
   "cell_type": "code",
   "execution_count": 26,
   "id": "3eaeda1a",
   "metadata": {},
   "outputs": [],
   "source": [
    "pred_test=np.argmax(Z_test, axis=1)"
   ]
  },
  {
   "cell_type": "code",
   "execution_count": 27,
   "id": "7f89c999",
   "metadata": {},
   "outputs": [
    {
     "name": "stdout",
     "output_type": "stream",
     "text": [
      "8047\n"
     ]
    }
   ],
   "source": [
    "count=0\n",
    "for i in range(m_test):\n",
    "    \n",
    "    if y_test[i,0] ==pred_test[i]:\n",
    "        count+=1 \n",
    "print(count)"
   ]
  },
  {
   "cell_type": "code",
   "execution_count": 28,
   "id": "33f2cee9",
   "metadata": {},
   "outputs": [
    {
     "name": "stdout",
     "output_type": "stream",
     "text": [
      "Accuracy on test data = 81%\n",
      "Accuracy on test data = 80.47%\n"
     ]
    }
   ],
   "source": [
    "accuracy=(count/m_test)*100\n",
    "print('Accuracy on test data = '+str(math.ceil(accuracy))+'%')\n",
    "print('Accuracy on test data = '+str(round(accuracy,2))+'%')"
   ]
  },
  {
   "cell_type": "markdown",
   "id": "3fc3ed3e",
   "metadata": {},
   "source": [
    "# Finding labels for classification_test"
   ]
  },
  {
   "cell_type": "code",
   "execution_count": 29,
   "id": "e91cc69a",
   "metadata": {},
   "outputs": [],
   "source": [
    "#importing dataset\n",
    "data_pred = pd.read_csv('classification_test.csv')\n",
    "x_pred = data_pred.iloc[:,1:785].values\n",
    "x_pred.shape\n",
    "m_pred,n_pred=x_pred.shape"
   ]
  },
  {
   "cell_type": "code",
   "execution_count": 30,
   "id": "b8b56ce4",
   "metadata": {},
   "outputs": [
    {
     "data": {
      "text/plain": [
       "(10000, 784)"
      ]
     },
     "execution_count": 30,
     "metadata": {},
     "output_type": "execute_result"
    }
   ],
   "source": [
    "mu     = np.mean(x_pred,axis=0)   \n",
    "sigma  = np.std(x_pred,axis=0) \n",
    "x_mean = (x_pred - mu)\n",
    "x_norm = (x_pred - mu)/sigma\n",
    "x_pred=x_norm\n",
    "x_pred.shape\n"
   ]
  },
  {
   "cell_type": "code",
   "execution_count": 31,
   "id": "1b36349d",
   "metadata": {},
   "outputs": [
    {
     "data": {
      "text/plain": [
       "(10000, 785)"
      ]
     },
     "execution_count": 31,
     "metadata": {},
     "output_type": "execute_result"
    }
   ],
   "source": [
    "data_pred.shape"
   ]
  },
  {
   "cell_type": "code",
   "execution_count": 32,
   "id": "74b96abd",
   "metadata": {},
   "outputs": [
    {
     "data": {
      "text/plain": [
       "(10000, 1)"
      ]
     },
     "execution_count": 32,
     "metadata": {},
     "output_type": "execute_result"
    }
   ],
   "source": [
    "x2=np.ones((m_pred,1))\n",
    "x2.shape"
   ]
  },
  {
   "cell_type": "code",
   "execution_count": 33,
   "id": "88ed2485",
   "metadata": {},
   "outputs": [
    {
     "data": {
      "text/plain": [
       "(10000, 785)"
      ]
     },
     "execution_count": 33,
     "metadata": {},
     "output_type": "execute_result"
    }
   ],
   "source": [
    "x_pred=np.concatenate((x2,x_pred),axis=1)\n",
    "x_pred.shape"
   ]
  },
  {
   "cell_type": "code",
   "execution_count": 34,
   "id": "57aaa2dd",
   "metadata": {},
   "outputs": [
    {
     "data": {
      "text/plain": [
       "(10000, 10)"
      ]
     },
     "execution_count": 34,
     "metadata": {},
     "output_type": "execute_result"
    }
   ],
   "source": [
    "Z_test=prediction(x_pred, theta_final)\n",
    "Z_test.shape"
   ]
  },
  {
   "cell_type": "code",
   "execution_count": 35,
   "id": "ba031cab",
   "metadata": {},
   "outputs": [
    {
     "data": {
      "text/plain": [
       "array([0, 1, 2, ..., 8, 6, 2], dtype=int64)"
      ]
     },
     "execution_count": 35,
     "metadata": {},
     "output_type": "execute_result"
    }
   ],
   "source": [
    "pred_test=np.argmax(Z_test, axis=1)\n",
    "pred_test"
   ]
  },
  {
   "cell_type": "code",
   "execution_count": 36,
   "id": "d9b5d442",
   "metadata": {},
   "outputs": [
    {
     "data": {
      "text/plain": [
       "(10000, 1)"
      ]
     },
     "execution_count": 36,
     "metadata": {},
     "output_type": "execute_result"
    }
   ],
   "source": [
    "pred_test=pred_test[np.newaxis,:]\n",
    "pred_test=pred_test.T\n",
    "pred_test.shape"
   ]
  },
  {
   "cell_type": "code",
   "execution_count": 37,
   "id": "809c368a",
   "metadata": {},
   "outputs": [],
   "source": [
    "data_pred.insert(0,'label',pred_test)"
   ]
  },
  {
   "cell_type": "code",
   "execution_count": 38,
   "id": "77222b6f",
   "metadata": {},
   "outputs": [],
   "source": [
    "#saving the dataframe as a csv file\n",
    "data_pred.to_csv('classification_test_pred.csv',index=False)"
   ]
  },
  {
   "cell_type": "code",
   "execution_count": null,
   "id": "c3274fad",
   "metadata": {},
   "outputs": [],
   "source": []
  },
  {
   "cell_type": "code",
   "execution_count": null,
   "id": "b6cc3af7",
   "metadata": {},
   "outputs": [],
   "source": []
  }
 ],
 "metadata": {
  "kernelspec": {
   "display_name": "Python 3 (ipykernel)",
   "language": "python",
   "name": "python3"
  },
  "language_info": {
   "codemirror_mode": {
    "name": "ipython",
    "version": 3
   },
   "file_extension": ".py",
   "mimetype": "text/x-python",
   "name": "python",
   "nbconvert_exporter": "python",
   "pygments_lexer": "ipython3",
   "version": "3.11.2"
  }
 },
 "nbformat": 4,
 "nbformat_minor": 5
}
