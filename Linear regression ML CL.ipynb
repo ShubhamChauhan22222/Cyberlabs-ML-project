{
 "cells": [
  {
   "cell_type": "markdown",
   "id": "bec7ce13",
   "metadata": {},
   "source": [
    "# Importing Python libraries"
   ]
  },
  {
   "cell_type": "code",
   "execution_count": 1,
   "id": "54519125",
   "metadata": {},
   "outputs": [],
   "source": [
    "import pandas as pd\n",
    "import numpy as np\n",
    "import matplotlib.pyplot as plt\n",
    "import math "
   ]
  },
  {
   "cell_type": "markdown",
   "id": "e0cd57cf",
   "metadata": {},
   "source": [
    "# Making numpy arrays x and y"
   ]
  },
  {
   "cell_type": "code",
   "execution_count": 2,
   "id": "a4d33b5d",
   "metadata": {},
   "outputs": [
    {
     "data": {
      "text/plain": [
       "(50000, 1)"
      ]
     },
     "execution_count": 2,
     "metadata": {},
     "output_type": "execute_result"
    }
   ],
   "source": [
    "#importing dataset\n",
    "data = pd.read_csv('linear_train.csv')\n",
    "x = data.iloc[:,1:-1].values\n",
    "\n",
    "y = data.iloc[:,-1].values\n",
    "y=y[np.newaxis,:]\n",
    "y=y.T\n",
    "y.shape"
   ]
  },
  {
   "cell_type": "code",
   "execution_count": 3,
   "id": "4c91f81b",
   "metadata": {},
   "outputs": [],
   "source": [
    "mu     = np.mean(x,axis=0)   \n",
    "sigma  = np.std(x,axis=0) \n",
    "x_mean = (x - mu)\n",
    "x_norm = (x - mu)/sigma"
   ]
  },
  {
   "cell_type": "markdown",
   "id": "a1253bd1",
   "metadata": {},
   "source": [
    "# Loading data"
   ]
  },
  {
   "cell_type": "code",
   "execution_count": 4,
   "id": "b4a72c58",
   "metadata": {},
   "outputs": [
    {
     "data": {
      "text/plain": [
       "array([[-0.99722997,  1.20760112,  0.64714173, ..., -0.42356685,\n",
       "         0.14706176, -1.81833211],\n",
       "       [-1.50051622,  2.00042615,  0.79297113, ...,  0.62858483,\n",
       "        -0.831581  , -0.48062945],\n",
       "       [-0.09112324, -0.44053485, -0.01483786, ...,  2.46960382,\n",
       "         1.67742154,  0.74836542],\n",
       "       ...,\n",
       "       [-0.89224929,  0.2364157 ,  0.81271337, ..., -0.81131613,\n",
       "         0.87977983, -1.42353235],\n",
       "       [ 2.48439907,  0.26340108, -0.56973691, ...,  0.5299262 ,\n",
       "         0.18599543, -1.12663502],\n",
       "       [-0.94520481,  1.08626123, -1.06794097, ...,  0.28871003,\n",
       "         0.57003263, -1.97345194]])"
      ]
     },
     "execution_count": 4,
     "metadata": {},
     "output_type": "execute_result"
    }
   ],
   "source": [
    "x_norm"
   ]
  },
  {
   "cell_type": "markdown",
   "id": "63cab055",
   "metadata": {},
   "source": [
    "data = pd.read_csv('linear_train.csv')"
   ]
  },
  {
   "cell_type": "code",
   "execution_count": 5,
   "id": "95718b55",
   "metadata": {},
   "outputs": [
    {
     "data": {
      "text/html": [
       "<div>\n",
       "<style scoped>\n",
       "    .dataframe tbody tr th:only-of-type {\n",
       "        vertical-align: middle;\n",
       "    }\n",
       "\n",
       "    .dataframe tbody tr th {\n",
       "        vertical-align: top;\n",
       "    }\n",
       "\n",
       "    .dataframe thead th {\n",
       "        text-align: right;\n",
       "    }\n",
       "</style>\n",
       "<table border=\"1\" class=\"dataframe\">\n",
       "  <thead>\n",
       "    <tr style=\"text-align: right;\">\n",
       "      <th></th>\n",
       "      <th>Unnamed: 0</th>\n",
       "      <th>A</th>\n",
       "      <th>B</th>\n",
       "      <th>C</th>\n",
       "      <th>D</th>\n",
       "      <th>E</th>\n",
       "      <th>F</th>\n",
       "      <th>G</th>\n",
       "      <th>H</th>\n",
       "      <th>I</th>\n",
       "      <th>...</th>\n",
       "      <th>L</th>\n",
       "      <th>M</th>\n",
       "      <th>N</th>\n",
       "      <th>O</th>\n",
       "      <th>P</th>\n",
       "      <th>Q</th>\n",
       "      <th>R</th>\n",
       "      <th>S</th>\n",
       "      <th>T</th>\n",
       "      <th>label</th>\n",
       "    </tr>\n",
       "  </thead>\n",
       "  <tbody>\n",
       "    <tr>\n",
       "      <th>0</th>\n",
       "      <td>0</td>\n",
       "      <td>-284.685568</td>\n",
       "      <td>284.567363</td>\n",
       "      <td>18.462706</td>\n",
       "      <td>0.012380</td>\n",
       "      <td>-52.394580</td>\n",
       "      <td>-0.942413</td>\n",
       "      <td>6.746190</td>\n",
       "      <td>19.595626</td>\n",
       "      <td>554.989342</td>\n",
       "      <td>...</td>\n",
       "      <td>33.451992</td>\n",
       "      <td>-9.171214</td>\n",
       "      <td>528.122484</td>\n",
       "      <td>-1959.593876</td>\n",
       "      <td>-47.348529</td>\n",
       "      <td>767.129260</td>\n",
       "      <td>-12.001084</td>\n",
       "      <td>83.978055</td>\n",
       "      <td>737.317448</td>\n",
       "      <td>-218.016231</td>\n",
       "    </tr>\n",
       "    <tr>\n",
       "      <th>1</th>\n",
       "      <td>1</td>\n",
       "      <td>-428.480005</td>\n",
       "      <td>307.240676</td>\n",
       "      <td>22.632897</td>\n",
       "      <td>-0.099657</td>\n",
       "      <td>6.294685</td>\n",
       "      <td>30.440746</td>\n",
       "      <td>95.919775</td>\n",
       "      <td>-52.450992</td>\n",
       "      <td>-872.531179</td>\n",
       "      <td>...</td>\n",
       "      <td>14.848331</td>\n",
       "      <td>-33.556867</td>\n",
       "      <td>-569.261772</td>\n",
       "      <td>-2014.463089</td>\n",
       "      <td>20.042132</td>\n",
       "      <td>769.298704</td>\n",
       "      <td>18.057370</td>\n",
       "      <td>-55.521630</td>\n",
       "      <td>775.407458</td>\n",
       "      <td>154.140849</td>\n",
       "    </tr>\n",
       "    <tr>\n",
       "      <th>2</th>\n",
       "      <td>2</td>\n",
       "      <td>-25.800879</td>\n",
       "      <td>237.433758</td>\n",
       "      <td>-0.467505</td>\n",
       "      <td>-0.115813</td>\n",
       "      <td>-7.837079</td>\n",
       "      <td>21.598922</td>\n",
       "      <td>158.095089</td>\n",
       "      <td>2.554397</td>\n",
       "      <td>136.298244</td>\n",
       "      <td>...</td>\n",
       "      <td>-12.662449</td>\n",
       "      <td>28.956309</td>\n",
       "      <td>1069.504591</td>\n",
       "      <td>-1932.524770</td>\n",
       "      <td>18.419684</td>\n",
       "      <td>781.523541</td>\n",
       "      <td>70.652625</td>\n",
       "      <td>302.121708</td>\n",
       "      <td>810.402101</td>\n",
       "      <td>394.849701</td>\n",
       "    </tr>\n",
       "    <tr>\n",
       "      <th>3</th>\n",
       "      <td>3</td>\n",
       "      <td>-292.645787</td>\n",
       "      <td>249.444200</td>\n",
       "      <td>-3.661449</td>\n",
       "      <td>0.020113</td>\n",
       "      <td>-4.273514</td>\n",
       "      <td>21.421400</td>\n",
       "      <td>71.012817</td>\n",
       "      <td>49.089192</td>\n",
       "      <td>-444.041731</td>\n",
       "      <td>...</td>\n",
       "      <td>-1.741291</td>\n",
       "      <td>-65.225030</td>\n",
       "      <td>-35.017662</td>\n",
       "      <td>-1987.750883</td>\n",
       "      <td>32.222111</td>\n",
       "      <td>774.167118</td>\n",
       "      <td>-38.784611</td>\n",
       "      <td>-171.210149</td>\n",
       "      <td>793.225247</td>\n",
       "      <td>-83.932183</td>\n",
       "    </tr>\n",
       "    <tr>\n",
       "      <th>4</th>\n",
       "      <td>4</td>\n",
       "      <td>-264.114362</td>\n",
       "      <td>259.031693</td>\n",
       "      <td>-17.772049</td>\n",
       "      <td>-0.108774</td>\n",
       "      <td>6.512923</td>\n",
       "      <td>13.657296</td>\n",
       "      <td>78.446286</td>\n",
       "      <td>20.942401</td>\n",
       "      <td>-257.340694</td>\n",
       "      <td>...</td>\n",
       "      <td>17.309833</td>\n",
       "      <td>17.309769</td>\n",
       "      <td>-1086.046476</td>\n",
       "      <td>-2040.302324</td>\n",
       "      <td>22.900939</td>\n",
       "      <td>809.692581</td>\n",
       "      <td>-32.675473</td>\n",
       "      <td>104.996827</td>\n",
       "      <td>841.923375</td>\n",
       "      <td>-120.640357</td>\n",
       "    </tr>\n",
       "    <tr>\n",
       "      <th>5</th>\n",
       "      <td>5</td>\n",
       "      <td>193.344631</td>\n",
       "      <td>285.745726</td>\n",
       "      <td>-53.483941</td>\n",
       "      <td>-0.017641</td>\n",
       "      <td>18.593014</td>\n",
       "      <td>43.228310</td>\n",
       "      <td>45.982257</td>\n",
       "      <td>-36.031217</td>\n",
       "      <td>-292.831698</td>\n",
       "      <td>...</td>\n",
       "      <td>-8.554298</td>\n",
       "      <td>-21.241737</td>\n",
       "      <td>70.684480</td>\n",
       "      <td>-1982.465776</td>\n",
       "      <td>-20.491796</td>\n",
       "      <td>734.202958</td>\n",
       "      <td>-22.804325</td>\n",
       "      <td>45.142360</td>\n",
       "      <td>739.243447</td>\n",
       "      <td>-122.715251</td>\n",
       "    </tr>\n",
       "    <tr>\n",
       "      <th>6</th>\n",
       "      <td>6</td>\n",
       "      <td>-196.157827</td>\n",
       "      <td>230.929450</td>\n",
       "      <td>-37.963296</td>\n",
       "      <td>0.026508</td>\n",
       "      <td>-7.310071</td>\n",
       "      <td>27.125842</td>\n",
       "      <td>50.283765</td>\n",
       "      <td>-40.433601</td>\n",
       "      <td>-560.867299</td>\n",
       "      <td>...</td>\n",
       "      <td>12.137186</td>\n",
       "      <td>35.837688</td>\n",
       "      <td>-254.050647</td>\n",
       "      <td>-1998.702532</td>\n",
       "      <td>19.103373</td>\n",
       "      <td>780.219980</td>\n",
       "      <td>-19.118230</td>\n",
       "      <td>-6.279496</td>\n",
       "      <td>800.778228</td>\n",
       "      <td>-218.918438</td>\n",
       "    </tr>\n",
       "    <tr>\n",
       "      <th>7</th>\n",
       "      <td>7</td>\n",
       "      <td>-221.312494</td>\n",
       "      <td>248.416552</td>\n",
       "      <td>-7.247610</td>\n",
       "      <td>-0.033209</td>\n",
       "      <td>65.572977</td>\n",
       "      <td>7.208908</td>\n",
       "      <td>110.475807</td>\n",
       "      <td>51.075872</td>\n",
       "      <td>745.115034</td>\n",
       "      <td>...</td>\n",
       "      <td>13.538281</td>\n",
       "      <td>60.427038</td>\n",
       "      <td>-427.429079</td>\n",
       "      <td>-2007.371454</td>\n",
       "      <td>42.005396</td>\n",
       "      <td>780.706453</td>\n",
       "      <td>8.509696</td>\n",
       "      <td>30.153630</td>\n",
       "      <td>771.927299</td>\n",
       "      <td>251.717568</td>\n",
       "    </tr>\n",
       "    <tr>\n",
       "      <th>8</th>\n",
       "      <td>8</td>\n",
       "      <td>-417.965179</td>\n",
       "      <td>207.391605</td>\n",
       "      <td>-18.715778</td>\n",
       "      <td>0.103775</td>\n",
       "      <td>31.015769</td>\n",
       "      <td>25.873403</td>\n",
       "      <td>77.105235</td>\n",
       "      <td>21.191801</td>\n",
       "      <td>-287.193289</td>\n",
       "      <td>...</td>\n",
       "      <td>-24.407016</td>\n",
       "      <td>-0.483272</td>\n",
       "      <td>1030.660228</td>\n",
       "      <td>-1934.466989</td>\n",
       "      <td>-17.500545</td>\n",
       "      <td>754.965747</td>\n",
       "      <td>-11.484060</td>\n",
       "      <td>-234.197068</td>\n",
       "      <td>807.298291</td>\n",
       "      <td>-18.888337</td>\n",
       "    </tr>\n",
       "    <tr>\n",
       "      <th>9</th>\n",
       "      <td>9</td>\n",
       "      <td>29.154337</td>\n",
       "      <td>227.364910</td>\n",
       "      <td>-12.645949</td>\n",
       "      <td>0.184828</td>\n",
       "      <td>8.578613</td>\n",
       "      <td>13.176155</td>\n",
       "      <td>26.596283</td>\n",
       "      <td>-46.943673</td>\n",
       "      <td>-327.411015</td>\n",
       "      <td>...</td>\n",
       "      <td>-21.495758</td>\n",
       "      <td>12.276679</td>\n",
       "      <td>-284.589670</td>\n",
       "      <td>-2000.229483</td>\n",
       "      <td>2.498699</td>\n",
       "      <td>796.025435</td>\n",
       "      <td>-8.671056</td>\n",
       "      <td>120.375899</td>\n",
       "      <td>816.372055</td>\n",
       "      <td>-332.076822</td>\n",
       "    </tr>\n",
       "  </tbody>\n",
       "</table>\n",
       "<p>10 rows × 22 columns</p>\n",
       "</div>"
      ],
      "text/plain": [
       "   Unnamed: 0           A           B          C         D          E  \\\n",
       "0           0 -284.685568  284.567363  18.462706  0.012380 -52.394580   \n",
       "1           1 -428.480005  307.240676  22.632897 -0.099657   6.294685   \n",
       "2           2  -25.800879  237.433758  -0.467505 -0.115813  -7.837079   \n",
       "3           3 -292.645787  249.444200  -3.661449  0.020113  -4.273514   \n",
       "4           4 -264.114362  259.031693 -17.772049 -0.108774   6.512923   \n",
       "5           5  193.344631  285.745726 -53.483941 -0.017641  18.593014   \n",
       "6           6 -196.157827  230.929450 -37.963296  0.026508  -7.310071   \n",
       "7           7 -221.312494  248.416552  -7.247610 -0.033209  65.572977   \n",
       "8           8 -417.965179  207.391605 -18.715778  0.103775  31.015769   \n",
       "9           9   29.154337  227.364910 -12.645949  0.184828   8.578613   \n",
       "\n",
       "           F           G          H           I  ...          L          M  \\\n",
       "0  -0.942413    6.746190  19.595626  554.989342  ...  33.451992  -9.171214   \n",
       "1  30.440746   95.919775 -52.450992 -872.531179  ...  14.848331 -33.556867   \n",
       "2  21.598922  158.095089   2.554397  136.298244  ... -12.662449  28.956309   \n",
       "3  21.421400   71.012817  49.089192 -444.041731  ...  -1.741291 -65.225030   \n",
       "4  13.657296   78.446286  20.942401 -257.340694  ...  17.309833  17.309769   \n",
       "5  43.228310   45.982257 -36.031217 -292.831698  ...  -8.554298 -21.241737   \n",
       "6  27.125842   50.283765 -40.433601 -560.867299  ...  12.137186  35.837688   \n",
       "7   7.208908  110.475807  51.075872  745.115034  ...  13.538281  60.427038   \n",
       "8  25.873403   77.105235  21.191801 -287.193289  ... -24.407016  -0.483272   \n",
       "9  13.176155   26.596283 -46.943673 -327.411015  ... -21.495758  12.276679   \n",
       "\n",
       "             N            O          P           Q          R           S  \\\n",
       "0   528.122484 -1959.593876 -47.348529  767.129260 -12.001084   83.978055   \n",
       "1  -569.261772 -2014.463089  20.042132  769.298704  18.057370  -55.521630   \n",
       "2  1069.504591 -1932.524770  18.419684  781.523541  70.652625  302.121708   \n",
       "3   -35.017662 -1987.750883  32.222111  774.167118 -38.784611 -171.210149   \n",
       "4 -1086.046476 -2040.302324  22.900939  809.692581 -32.675473  104.996827   \n",
       "5    70.684480 -1982.465776 -20.491796  734.202958 -22.804325   45.142360   \n",
       "6  -254.050647 -1998.702532  19.103373  780.219980 -19.118230   -6.279496   \n",
       "7  -427.429079 -2007.371454  42.005396  780.706453   8.509696   30.153630   \n",
       "8  1030.660228 -1934.466989 -17.500545  754.965747 -11.484060 -234.197068   \n",
       "9  -284.589670 -2000.229483   2.498699  796.025435  -8.671056  120.375899   \n",
       "\n",
       "            T       label  \n",
       "0  737.317448 -218.016231  \n",
       "1  775.407458  154.140849  \n",
       "2  810.402101  394.849701  \n",
       "3  793.225247  -83.932183  \n",
       "4  841.923375 -120.640357  \n",
       "5  739.243447 -122.715251  \n",
       "6  800.778228 -218.918438  \n",
       "7  771.927299  251.717568  \n",
       "8  807.298291  -18.888337  \n",
       "9  816.372055 -332.076822  \n",
       "\n",
       "[10 rows x 22 columns]"
      ]
     },
     "execution_count": 5,
     "metadata": {},
     "output_type": "execute_result"
    }
   ],
   "source": [
    "data.head(10)"
   ]
  },
  {
   "cell_type": "code",
   "execution_count": 6,
   "id": "fdd5adfe",
   "metadata": {},
   "outputs": [
    {
     "data": {
      "text/plain": [
       "50000"
      ]
     },
     "execution_count": 6,
     "metadata": {},
     "output_type": "execute_result"
    }
   ],
   "source": [
    "m=len(data)\n",
    "m"
   ]
  },
  {
   "cell_type": "code",
   "execution_count": 7,
   "id": "37de4d36",
   "metadata": {},
   "outputs": [],
   "source": [
    "m,n=x.shape"
   ]
  },
  {
   "cell_type": "code",
   "execution_count": null,
   "id": "e65c095c",
   "metadata": {},
   "outputs": [],
   "source": []
  },
  {
   "cell_type": "markdown",
   "id": "807b5f39",
   "metadata": {},
   "source": [
    "# Cost Function"
   ]
  },
  {
   "cell_type": "code",
   "execution_count": null,
   "id": "d0d6e250",
   "metadata": {},
   "outputs": [],
   "source": []
  },
  {
   "cell_type": "code",
   "execution_count": 8,
   "id": "f50f4655",
   "metadata": {},
   "outputs": [],
   "source": [
    "def compute_cost(x_norm, y, w, b): \n",
    "                               \n",
    "    f_wb = np.dot(x_norm, w) + b           \n",
    "    cost = (f_wb - y) \n",
    "    cost = cost**2\n",
    "    cost = cost / (2 * m)\n",
    "    cost=np.sum(cost)\n",
    "    \n",
    "    return cost"
   ]
  },
  {
   "cell_type": "code",
   "execution_count": null,
   "id": "500920a4",
   "metadata": {},
   "outputs": [],
   "source": []
  },
  {
   "cell_type": "markdown",
   "id": "aa9bd091",
   "metadata": {},
   "source": [
    "# Gradient Descent"
   ]
  },
  {
   "cell_type": "code",
   "execution_count": 9,
   "id": "5bcfd594",
   "metadata": {},
   "outputs": [],
   "source": [
    "def compute_gradient(x_norm, y, w, b): \n",
    "   \n",
    "    m,n = x_norm.shape           #(number of examples, number of features)\n",
    "    y_hat = np.dot(x_norm,w) + b                      \n",
    "    err = (y_hat - y)\n",
    "    \n",
    "    # dj_db\n",
    "    dj_db = np.sum(err)\n",
    "    dj_db = dj_db / m \n",
    "    \n",
    "    #dj_dw\n",
    "    \n",
    "    dj_dw = (1/m)*(np.dot(x_norm.T, err))   \n",
    "#     dj_dw+=(lambda_/m)*(np.sum(w))                               \n",
    "        \n",
    "    return dj_db, dj_dw"
   ]
  },
  {
   "cell_type": "code",
   "execution_count": 10,
   "id": "b998a60c",
   "metadata": {},
   "outputs": [],
   "source": [
    "def gradient_descent(x_norm, y, w_in, b_in, cost_function, gradient_function, alpha, num_iters): \n",
    "    J_history = []\n",
    "    w_history = []\n",
    "    \n",
    "    w=w_in\n",
    "    b = b_in\n",
    "    \n",
    "    for i in range(num_iters):\n",
    "\n",
    "        \n",
    "        dj_db,dj_dw = gradient_function(x_norm, y, w, b)   \n",
    "            \n",
    "        w = w - alpha * dj_dw\n",
    "                    \n",
    "        b = b - alpha * dj_db  \n",
    "         # Save cost J at each iteration\n",
    "        if i<100000:      # prevent resource exhaustion \n",
    "            cost =  cost_function(x_norm, y, w, b)\n",
    "            J_history.append(cost)\n",
    "\n",
    "        # Print cost every at intervals 10 times or as many iterations if < 10\n",
    "        if i% math.ceil(num_iters/10) == 0:\n",
    "            w_history.append(w)\n",
    "            print(f\"Iteration {i:4}: Cost {float(J_history[-1]):8.2f}   \")\n",
    "        \n",
    "    return w, b, J_history, w_history #return w and J,w history for graphing "
   ]
  },
  {
   "cell_type": "code",
   "execution_count": null,
   "id": "a5db83bf",
   "metadata": {},
   "outputs": [],
   "source": []
  },
  {
   "cell_type": "code",
   "execution_count": 11,
   "id": "42597eae",
   "metadata": {},
   "outputs": [
    {
     "name": "stdout",
     "output_type": "stream",
     "text": [
      "Iteration    0: Cost 29785.03   \n",
      "Iteration  100: Cost  7772.89   \n",
      "Iteration  200: Cost  5168.19   \n",
      "Iteration  300: Cost  4823.44   \n",
      "Iteration  400: Cost  4777.02   \n",
      "Iteration  500: Cost  4770.75   \n",
      "Iteration  600: Cost  4769.90   \n",
      "Iteration  700: Cost  4769.79   \n",
      "Iteration  800: Cost  4769.77   \n",
      "Iteration  900: Cost  4769.77   \n",
      "w,b found by gradient descent: [[72.99303967]\n",
      " [66.2462989 ]\n",
      " [97.43781341]\n",
      " [ 1.71748798]\n",
      " [17.36249444]\n",
      " [24.8151892 ]\n",
      " [71.23054984]\n",
      " [30.99418132]\n",
      " [20.34966567]\n",
      " [93.74479786]\n",
      " [39.36753471]\n",
      " [37.25371   ]\n",
      " [ 2.82789698]\n",
      " [40.70112191]\n",
      " [40.70112191]\n",
      " [46.08531179]\n",
      " [21.51532525]\n",
      " [33.8443092 ]\n",
      " [33.68222527]\n",
      " [39.24676413]] -0.365634949332811\n"
     ]
    }
   ],
   "source": [
    "initial_w = np.zeros((n,1))\n",
    "initial_b = 0\n",
    "# some gradient descent settings\n",
    "iterations = 1000\n",
    "alpha = 0.01\n",
    "# run gradient descent \n",
    "w_norm,b_norm,J_history, w_history = gradient_descent(x_norm ,y, initial_w, initial_b, compute_cost, compute_gradient, alpha, iterations)\n",
    "print(\"w,b found by gradient descent:\", w_norm, b_norm)"
   ]
  },
  {
   "cell_type": "code",
   "execution_count": 12,
   "id": "76ba0481",
   "metadata": {},
   "outputs": [
    {
     "data": {
      "text/plain": [
       "4769.768749133481"
      ]
     },
     "execution_count": 12,
     "metadata": {},
     "output_type": "execute_result"
    }
   ],
   "source": [
    "compute_cost(x_norm, y, w=w_norm, b=b_norm)"
   ]
  },
  {
   "cell_type": "code",
   "execution_count": 13,
   "id": "854bca0c",
   "metadata": {},
   "outputs": [
    {
     "data": {
      "image/png": "[encoded data removed]",
      "text/plain": [
       "<Figure size 640x480 with 1 Axes>"
      ]
     },
     "metadata": {},
     "output_type": "display_data"
    }
   ],
   "source": [
    "t = np.arange(0, iterations)\n",
    "plt.plot(t,J_history )\n",
    "plt.xlabel(\"iterations\")\n",
    "plt.ylabel(\"cost\")\n",
    "plt.title(\"iterations vs cost\")\n",
    "\n",
    "plt.show()"
   ]
  },
  {
   "cell_type": "code",
   "execution_count": null,
   "id": "f1d57ba9",
   "metadata": {},
   "outputs": [],
   "source": []
  },
  {
   "cell_type": "markdown",
   "id": "c4239784",
   "metadata": {},
   "source": [
    "# RMSE and R2 score"
   ]
  },
  {
   "cell_type": "code",
   "execution_count": null,
   "id": "63cd2a25",
   "metadata": {},
   "outputs": [],
   "source": []
  },
  {
   "cell_type": "code",
   "execution_count": 14,
   "id": "7b47ad2d",
   "metadata": {},
   "outputs": [
    {
     "name": "stdout",
     "output_type": "stream",
     "text": [
      "RMSE\n",
      "[97.67055594]\n",
      "R2 Score\n",
      "[0.84287832]\n"
     ]
    }
   ],
   "source": [
    "# Model Evaluation - RMSE\n",
    "def rmse(Y, Y_pred):\n",
    "    rmse = np.sqrt(sum((Y - Y_pred) ** 2) / (m))\n",
    "    return rmse\n",
    "\n",
    "# Model Evaluation - R2 Score\n",
    "def r2_score(Y, Y_pred):\n",
    "    mean_y = np.mean(Y)\n",
    "    ss_tot = sum((Y - mean_y) ** 2)\n",
    "    ss_res = sum((Y - Y_pred) ** 2)\n",
    "    r2 = 1 - (ss_res / ss_tot)\n",
    "    return r2\n",
    "\n",
    "Y_pred = np.dot(x_norm, w_norm) + b_norm\n",
    "\n",
    "print(\"RMSE\")\n",
    "print(rmse(y, Y_pred))\n",
    "print(\"R2 Score\")\n",
    "print(r2_score(y, Y_pred))"
   ]
  },
  {
   "cell_type": "code",
   "execution_count": null,
   "id": "da07fcf0",
   "metadata": {},
   "outputs": [],
   "source": []
  },
  {
   "cell_type": "code",
   "execution_count": null,
   "id": "d907c91d",
   "metadata": {},
   "outputs": [],
   "source": []
  },
  {
   "cell_type": "markdown",
   "id": "46ef8739",
   "metadata": {},
   "source": [
    "# Predicting labels and saving csv file"
   ]
  },
  {
   "cell_type": "code",
   "execution_count": null,
   "id": "5a30f527",
   "metadata": {},
   "outputs": [],
   "source": []
  },
  {
   "cell_type": "code",
   "execution_count": 15,
   "id": "155555dd",
   "metadata": {},
   "outputs": [],
   "source": [
    "#importing dataset\n",
    "data_pred = pd.read_csv('linear_test_data.csv')\n",
    "x_test= data_pred.iloc[:,1:21].values"
   ]
  },
  {
   "cell_type": "code",
   "execution_count": 16,
   "id": "1b94a9b7",
   "metadata": {},
   "outputs": [
    {
     "data": {
      "text/plain": [
       "(20000, 20)"
      ]
     },
     "execution_count": 16,
     "metadata": {},
     "output_type": "execute_result"
    }
   ],
   "source": [
    "mu     = np.mean(x_test,axis=0)   \n",
    "sigma  = np.std(x_test,axis=0) \n",
    "x_test_norm = (x_test - mu)/sigma\n",
    "x_test_norm.shape"
   ]
  },
  {
   "cell_type": "code",
   "execution_count": 17,
   "id": "95dfdb4e",
   "metadata": {},
   "outputs": [],
   "source": [
    "y_pred=np.dot(x_test_norm, w_norm) + b_norm"
   ]
  },
  {
   "cell_type": "code",
   "execution_count": 18,
   "id": "87290dbd",
   "metadata": {},
   "outputs": [
    {
     "data": {
      "text/plain": [
       "(20000, 1)"
      ]
     },
     "execution_count": 18,
     "metadata": {},
     "output_type": "execute_result"
    }
   ],
   "source": [
    "y_pred.shape"
   ]
  },
  {
   "cell_type": "code",
   "execution_count": 19,
   "id": "51160968",
   "metadata": {},
   "outputs": [],
   "source": [
    "data_pred.insert(0,'label',y_pred)"
   ]
  },
  {
   "cell_type": "code",
   "execution_count": 20,
   "id": "19022864",
   "metadata": {},
   "outputs": [],
   "source": [
    "#saving the dataframe as a csv file\n",
    "data_pred.to_csv('linear_test_data_pred.csv',index=False)"
   ]
  },
  {
   "cell_type": "code",
   "execution_count": null,
   "id": "12fbce40",
   "metadata": {},
   "outputs": [],
   "source": []
  }
 ],
 "metadata": {
  "kernelspec": {
   "display_name": "Python 3 (ipykernel)",
   "language": "python",
   "name": "python3"
  },
  "language_info": {
   "codemirror_mode": {
    "name": "ipython",
    "version": 3
   },
   "file_extension": ".py",
   "mimetype": "text/x-python",
   "name": "python",
   "nbconvert_exporter": "python",
   "pygments_lexer": "ipython3",
   "version": "3.11.2"
  }
 },
 "nbformat": 4,
 "nbformat_minor": 5
}
