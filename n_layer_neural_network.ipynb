{
  "cells": [
    {
      "cell_type": "code",
      "execution_count": 1,
      "id": "298edc58",
      "metadata": {
        "id": "298edc58"
      },
      "outputs": [],
      "source": [
        "import pandas as pd\n",
        "import numpy as np\n",
        "import matplotlib.pyplot as plt"
      ]
    },
    {
      "cell_type": "code",
      "source": [
        "from google.colab import drive\n",
        "drive.mount('/content/drive')\n"
      ],
      "metadata": {
        "colab": {
          "base_uri": "https://localhost:8080/"
        },
        "id": "k2BwmJgqbdu8",
        "outputId": "2291490a-9186-466b-b1bc-8c025721e9b0"
      },
      "id": "k2BwmJgqbdu8",
      "execution_count": 2,
      "outputs": [
        {
          "output_type": "stream",
          "name": "stdout",
          "text": [
            "Mounted at /content/drive\n"
          ]
        }
      ]
    },
    {
      "cell_type": "code",
      "source": [],
      "metadata": {
        "id": "dfBgeMvL98-U"
      },
      "id": "dfBgeMvL98-U",
      "execution_count": 2,
      "outputs": []
    },
    {
      "cell_type": "markdown",
      "source": [
        "# Importing data"
      ],
      "metadata": {
        "id": "aocQkIa0-Alh"
      },
      "id": "aocQkIa0-Alh"
    },
    {
      "cell_type": "code",
      "execution_count": 3,
      "id": "c6e7e281",
      "metadata": {
        "id": "c6e7e281"
      },
      "outputs": [],
      "source": [
        "data = pd.read_csv(r'/content/drive/MyDrive/classification_train.csv')"
      ]
    },
    {
      "cell_type": "code",
      "execution_count": 4,
      "id": "20560f7d",
      "metadata": {
        "colab": {
          "base_uri": "https://localhost:8080/"
        },
        "id": "20560f7d",
        "outputId": "b0337e7e-4d31-4fcd-d61f-4aabd110515e"
      },
      "outputs": [
        {
          "output_type": "execute_result",
          "data": {
            "text/plain": [
              "array([[0, 0, 0, ..., 0, 0, 0],\n",
              "       [0, 0, 0, ..., 0, 0, 0],\n",
              "       [0, 0, 0, ..., 0, 0, 0],\n",
              "       ...,\n",
              "       [0, 0, 0, ..., 0, 0, 0],\n",
              "       [0, 0, 0, ..., 0, 0, 0],\n",
              "       [0, 0, 0, ..., 0, 0, 0]])"
            ]
          },
          "metadata": {},
          "execution_count": 4
        }
      ],
      "source": [
        "#importing dataset\n",
        "x = data.iloc[:20000,2:786].values\n",
        "\n",
        "y = data.iloc[:20000,1].values\n",
        "y = y.reshape(y.shape[0],1)\n",
        "x"
      ]
    },
    {
      "cell_type": "code",
      "execution_count": 5,
      "id": "8410fad0",
      "metadata": {
        "colab": {
          "base_uri": "https://localhost:8080/"
        },
        "id": "8410fad0",
        "outputId": "56daea64-9c6c-4157-fa71-12a129e0359f"
      },
      "outputs": [
        {
          "output_type": "execute_result",
          "data": {
            "text/plain": [
              "((20000, 784), (20000, 1))"
            ]
          },
          "metadata": {},
          "execution_count": 5
        }
      ],
      "source": [
        "m, n = x.shape\n",
        "x.shape,y.shape "
      ]
    },
    {
      "cell_type": "code",
      "execution_count": 6,
      "id": "21a5ff16",
      "metadata": {
        "colab": {
          "base_uri": "https://localhost:8080/"
        },
        "id": "21a5ff16",
        "outputId": "a5f81139-7d59-4418-ddda-0c5141af93c5"
      },
      "outputs": [
        {
          "output_type": "execute_result",
          "data": {
            "text/plain": [
              "(784, 20000)"
            ]
          },
          "metadata": {},
          "execution_count": 6
        }
      ],
      "source": [
        "mu     = np.mean(x,axis=0)   \n",
        "sigma  = np.std(x,axis=0) \n",
        "x_mean = (x - mu)\n",
        "x_norm = (x - mu)/sigma\n",
        "X=x_norm.T\n",
        "X.shape"
      ]
    },
    {
      "cell_type": "code",
      "execution_count": 7,
      "id": "fd4b1022",
      "metadata": {
        "colab": {
          "base_uri": "https://localhost:8080/"
        },
        "id": "fd4b1022",
        "outputId": "e51658d5-6122-415b-afd3-5a1ba75a1be0"
      },
      "outputs": [
        {
          "output_type": "execute_result",
          "data": {
            "text/plain": [
              "(10, 20000)"
            ]
          },
          "metadata": {},
          "execution_count": 7
        }
      ],
      "source": [
        "\"\"\" Y: onehot encoded \"\"\"\n",
        "unique_values=(np.unique(y))\n",
        "Y=np.zeros((m,len(unique_values)))\n",
        "for i in range(m):\n",
        "    for j in range(len(unique_values)):\n",
        "        if y[i][0]==unique_values[j]: Y[i][unique_values[j]]=1 \n",
        "\n",
        "y=Y.T\n",
        "y.shape"
      ]
    },
    {
      "cell_type": "code",
      "execution_count": 7,
      "id": "d6e008b4",
      "metadata": {
        "id": "d6e008b4"
      },
      "outputs": [],
      "source": []
    },
    {
      "cell_type": "markdown",
      "id": "7c75b6ed",
      "metadata": {
        "id": "7c75b6ed"
      },
      "source": [
        "# Activation functions¶"
      ]
    },
    {
      "cell_type": "code",
      "execution_count": 8,
      "id": "fcff6a6c",
      "metadata": {
        "id": "fcff6a6c"
      },
      "outputs": [],
      "source": [
        "def relu(x):\n",
        "    return np.maximum(x, 0)\n",
        "\n",
        "def softmax(x):\n",
        "    expX = np.exp(x)\n",
        "    return expX/np.sum(expX, axis = 0)\n",
        "def tanh(x):\n",
        "    return np.tanh(x)"
      ]
    },
    {
      "cell_type": "code",
      "execution_count": 9,
      "id": "4091fbd0",
      "metadata": {
        "id": "4091fbd0"
      },
      "outputs": [],
      "source": [
        "def derivative_relu(x):\n",
        "    return np.array(x > 0, dtype = np.float32)\n",
        "def derivative_tanh(x):\n",
        "    return (1 - np.power(np.tanh(x), 2))"
      ]
    },
    {
      "cell_type": "code",
      "execution_count": 9,
      "id": "91c9a570",
      "metadata": {
        "id": "91c9a570"
      },
      "outputs": [],
      "source": []
    },
    {
      "cell_type": "markdown",
      "id": "c1bbc273",
      "metadata": {
        "id": "c1bbc273"
      },
      "source": [
        "# Initialize Parameters"
      ]
    },
    {
      "cell_type": "code",
      "execution_count": 10,
      "id": "663cfdc2",
      "metadata": {
        "id": "663cfdc2"
      },
      "outputs": [],
      "source": [
        "def initialize_parameters(layer_dims):\n",
        "    \n",
        "    parameters = {}\n",
        "    L = len(layer_dims)            \n",
        "\n",
        "    for l in range(1, L):\n",
        "        # parameters['W' + str(l)] = (np.random.randn(layer_dims[l], layer_dims[l-1]))*0.001\n",
        "        parameters['W' + str(l)] = np.random.randn(layer_dims[l], layer_dims[l-1]) / np.sqrt(layer_dims[l-1]) #*0.01\n",
        "\n",
        "        parameters['b' + str(l)] = np.zeros((layer_dims[l], 1))\n",
        "        \n",
        "    return parameters"
      ]
    },
    {
      "cell_type": "code",
      "execution_count": 11,
      "id": "8c514ca2",
      "metadata": {
        "colab": {
          "base_uri": "https://localhost:8080/"
        },
        "id": "8c514ca2",
        "outputId": "c04867d9-9aa3-4515-f0e0-7c2bed041f8f"
      },
      "outputs": [
        {
          "name": "stdout",
          "output_type": "stream",
          "text": [
            "no. of hidden layers:\n",
            "3\n",
            "number of neurons in each layer\n",
            "50\n",
            "25\n",
            "15\n"
          ]
        },
        {
          "output_type": "execute_result",
          "data": {
            "text/plain": [
              "[50, 25, 15]"
            ]
          },
          "metadata": {},
          "execution_count": 11
        }
      ],
      "source": [
        "a=[]\n",
        "print(\"no. of hidden layers:\")\n",
        "b=int(input())\n",
        "print(\"number of neurons in each layer\")\n",
        "for i in range(b):\n",
        "#     print('number of neurons in layer ' + str{l})\n",
        "    l=int(input())\n",
        "    a.append(l)\n",
        "a"
      ]
    },
    {
      "cell_type": "code",
      "execution_count": 12,
      "id": "312ac992",
      "metadata": {
        "colab": {
          "base_uri": "https://localhost:8080/"
        },
        "id": "312ac992",
        "outputId": "634ba9f6-f005-42c2-b8c0-a3bc5c5e4aaa"
      },
      "outputs": [
        {
          "output_type": "stream",
          "name": "stdout",
          "text": [
            "[784, 50, 25, 15, 10]\n",
            "Shape of W1: (50, 784)\n",
            "Shape of B1: (50, 1) \n",
            "\n",
            "Shape of W2: (25, 50)\n",
            "Shape of B2: (25, 1) \n",
            "\n",
            "Shape of W3: (15, 25)\n",
            "Shape of B3: (15, 1) \n",
            "\n",
            "Shape of W4: (10, 15)\n",
            "Shape of B4: (10, 1) \n",
            "\n"
          ]
        }
      ],
      "source": [
        "c = X.shape[0]\n",
        "a.insert(0,c)\n",
        "# c.append(a)\n",
        "d = int(y.shape[0])\n",
        "a.append(d)\n",
        "a\n",
        "layer_dims = a\n",
        "print(layer_dims)\n",
        "params = initialize_parameters(layer_dims)\n",
        "\n",
        "for l in range(1, len(layer_dims)):\n",
        "    print(\"Shape of W\" + str(l) + \":\", params['W' + str(l)].shape)\n",
        "    print(\"Shape of B\" + str(l) + \":\", params['b' + str(l)].shape, \"\\n\")"
      ]
    },
    {
      "cell_type": "code",
      "execution_count": 12,
      "id": "4a186b4e",
      "metadata": {
        "id": "4a186b4e"
      },
      "outputs": [],
      "source": []
    },
    {
      "cell_type": "markdown",
      "id": "8d112fbb",
      "metadata": {
        "id": "8d112fbb"
      },
      "source": [
        "# Forward Propagation"
      ]
    },
    {
      "cell_type": "code",
      "execution_count": 13,
      "id": "83b2923b",
      "metadata": {
        "id": "83b2923b"
      },
      "outputs": [],
      "source": [
        "def forward_propagation(X, parameters):\n",
        "   \n",
        "    forward_cache = {}\n",
        "    L = len(parameters) // 2    \n",
        "    \n",
        "    forward_cache['A0'] = X\n",
        "\n",
        "    for l in range(1, L):\n",
        "        forward_cache['Z' + str(l)] = parameters['W' + str(l)].dot(forward_cache['A' + str(l-1)]) + parameters['b' + str(l)]\n",
        "        \n",
        "\n",
        "        forward_cache['A' + str(l)] = relu(forward_cache['Z' + str(l)])\n",
        "            \n",
        "\n",
        "    forward_cache['Z' + str(L)] = parameters['W' + str(L)].dot(forward_cache['A' + str(L-1)]) + parameters['b' + str(L)]\n",
        "    \n",
        "    \n",
        "    \n",
        "    forward_cache['A' + str(L)] = softmax(forward_cache['Z' + str(L)])\n",
        "    \n",
        "    return forward_cache['A' + str(L)], forward_cache"
      ]
    },
    {
      "cell_type": "code",
      "execution_count": 13,
      "id": "8d7075ba",
      "metadata": {
        "id": "8d7075ba"
      },
      "outputs": [],
      "source": []
    },
    {
      "cell_type": "code",
      "execution_count": 14,
      "id": "a235be25",
      "metadata": {
        "colab": {
          "base_uri": "https://localhost:8080/"
        },
        "id": "a235be25",
        "outputId": "45d93c39-0f5e-4175-90a7-0c000ab1f8c2"
      },
      "outputs": [
        {
          "output_type": "stream",
          "name": "stdout",
          "text": [
            "Shape of A0 : (784, 20000)\n",
            "Shape of A1 : (50, 20000)\n",
            "Shape of A2 : (25, 20000)\n",
            "Shape of A3 : (15, 20000)\n",
            "Shape of A4 : (10, 20000)\n"
          ]
        }
      ],
      "source": [
        "AL, forw_cache = forward_propagation(X, params)\n",
        "for l in range(len(params)//2 + 1):\n",
        "    print(\"Shape of A\" + str(l) + \" :\", forw_cache['A' + str(l)].shape)"
      ]
    },
    {
      "cell_type": "code",
      "execution_count": 14,
      "id": "60a607c4",
      "metadata": {
        "id": "60a607c4"
      },
      "outputs": [],
      "source": []
    },
    {
      "cell_type": "markdown",
      "id": "ff2da6ad",
      "metadata": {
        "id": "ff2da6ad"
      },
      "source": [
        "# Cost function"
      ]
    },
    {
      "cell_type": "code",
      "execution_count": 15,
      "id": "146abac9",
      "metadata": {
        "id": "146abac9"
      },
      "outputs": [],
      "source": [
        "def compute_cost(AL, Y):\n",
        "    cost = -(1./m) * np.sum(y * np.log(AL))\n",
        "    cost = np.squeeze(cost)\n",
        "    return cost"
      ]
    },
    {
      "cell_type": "code",
      "execution_count": 15,
      "id": "4bfdacea",
      "metadata": {
        "id": "4bfdacea"
      },
      "outputs": [],
      "source": []
    },
    {
      "cell_type": "markdown",
      "id": "f7d96e15",
      "metadata": {
        "id": "f7d96e15"
      },
      "source": [
        "# Backpropagation"
      ]
    },
    {
      "cell_type": "code",
      "execution_count": 16,
      "id": "66f95b0e",
      "metadata": {
        "id": "66f95b0e"
      },
      "outputs": [],
      "source": [
        "def backward_propagation(AL, y, parameters, forward_cache):\n",
        "    \n",
        "    grads = {}\n",
        "    L = len(parameters)//2\n",
        "    \n",
        "    grads[\"dZ\" + str(L)] = AL - y\n",
        "    grads[\"dW\" + str(L)] = 1./m * np.dot(grads[\"dZ\" + str(L)],forward_cache['A' + str(L-1)].T)\n",
        "    grads[\"db\" + str(L)] = 1./m * np.sum(grads[\"dZ\" + str(L)], axis = 1, keepdims = True)\n",
        "    \n",
        "    for l in reversed(range(1, L)):\n",
        "        \n",
        "        \n",
        "        grads[\"dZ\" + str(l)] = np.dot(parameters['W' + str(l+1)].T,grads[\"dZ\" + str(l+1)])*derivative_relu(forward_cache['A' + str(l)])\n",
        "            \n",
        "        grads[\"dW\" + str(l)] = 1./m * np.dot(grads[\"dZ\" + str(l)],forward_cache['A' + str(l-1)].T)\n",
        "        grads[\"db\" + str(l)] = 1./m * np.sum(grads[\"dZ\" + str(l)], axis = 1, keepdims = True)\n",
        "\n",
        "    return grads"
      ]
    },
    {
      "cell_type": "code",
      "execution_count": 17,
      "id": "77be6a5c",
      "metadata": {
        "id": "77be6a5c"
      },
      "outputs": [],
      "source": [
        "grads = backward_propagation(forw_cache[\"A\" + str(b+1)], y, params, forw_cache)"
      ]
    },
    {
      "cell_type": "code",
      "execution_count": 17,
      "id": "edfebd37",
      "metadata": {
        "id": "edfebd37"
      },
      "outputs": [],
      "source": []
    },
    {
      "cell_type": "markdown",
      "id": "813671ef",
      "metadata": {
        "id": "813671ef"
      },
      "source": [
        "# Gradient descent"
      ]
    },
    {
      "cell_type": "code",
      "execution_count": 17,
      "id": "086d4efc",
      "metadata": {
        "id": "086d4efc"
      },
      "outputs": [],
      "source": []
    },
    {
      "cell_type": "code",
      "execution_count": 18,
      "id": "fb955ad0",
      "metadata": {
        "id": "fb955ad0"
      },
      "outputs": [],
      "source": [
        "def update_parameters(parameters, grads, learning_rate):\n",
        "\n",
        "    L = len(parameters) // 2 \n",
        "    \n",
        "    for l in range(L):\n",
        "        parameters[\"W\" + str(l+1)] = parameters[\"W\" + str(l+1)] - learning_rate * grads[\"dW\" + str(l+1)]\n",
        "        parameters[\"b\" + str(l+1)] = parameters[\"b\" + str(l+1)] - learning_rate * grads[\"db\" + str(l+1)]\n",
        "        \n",
        "    return parameters"
      ]
    },
    {
      "cell_type": "code",
      "execution_count": 18,
      "id": "fcf3d613",
      "metadata": {
        "id": "fcf3d613"
      },
      "outputs": [],
      "source": []
    },
    {
      "cell_type": "code",
      "execution_count": 18,
      "id": "5e634766",
      "metadata": {
        "id": "5e634766"
      },
      "outputs": [],
      "source": []
    },
    {
      "cell_type": "code",
      "execution_count": 19,
      "id": "3292882c",
      "metadata": {
        "id": "3292882c"
      },
      "outputs": [],
      "source": [
        "def model(X, y, layers_dims, learning_rate = 0.03, activation = 'relu', num_iterations = 3000):\n",
        "\n",
        "    costs = []              \n",
        "    \n",
        "    parameters = initialize_parameters(layer_dims)\n",
        "\n",
        "    for i in range(0, num_iterations):\n",
        "\n",
        "        AL, forward_cache = forward_propagation(X, parameters)\n",
        "\n",
        "        cost = compute_cost(AL, Y)\n",
        "\n",
        "        grads = backward_propagation(AL, y, parameters, forward_cache)\n",
        "\n",
        "        parameters = update_parameters(parameters, grads, learning_rate)\n",
        "        \n",
        "        costs.append(cost)\n",
        "\n",
        "        if i % (num_iterations/10) == 0:\n",
        "            print('iterations = '+ str(i) + ' cost = ' + str(cost))\n",
        "        \n",
        "        \n",
        "       \n",
        "    return parameters,costs"
      ]
    },
    {
      "cell_type": "code",
      "execution_count": 20,
      "id": "0ab686a0",
      "metadata": {
        "colab": {
          "base_uri": "https://localhost:8080/"
        },
        "id": "0ab686a0",
        "outputId": "263777e7-6d3a-4d93-cd5c-7f379466e23c"
      },
      "outputs": [
        {
          "output_type": "stream",
          "name": "stdout",
          "text": [
            "iterations = 0 cost = 2.339407978602308\n",
            "iterations = 250 cost = 1.1609545384954905\n",
            "iterations = 500 cost = 0.7206475402349102\n",
            "iterations = 750 cost = 0.6001089944580688\n",
            "iterations = 1000 cost = 0.5437828630472133\n",
            "iterations = 1250 cost = 0.5077766559458278\n",
            "iterations = 1500 cost = 0.4811315284008757\n",
            "iterations = 1750 cost = 0.45930910301857814\n",
            "iterations = 2000 cost = 0.44011023563936946\n",
            "iterations = 2250 cost = 0.42259213673579615\n"
          ]
        }
      ],
      "source": [
        "lr = 0.009\n",
        "iters = 2500\n",
        "\n",
        "parameters,costs = model(X, y, layer_dims, learning_rate = lr, activation = 'relu', num_iterations = iters)"
      ]
    },
    {
      "cell_type": "code",
      "execution_count": 20,
      "id": "8caa00e0",
      "metadata": {
        "id": "8caa00e0"
      },
      "outputs": [],
      "source": []
    },
    {
      "cell_type": "code",
      "execution_count": 21,
      "id": "a8d28539",
      "metadata": {
        "colab": {
          "base_uri": "https://localhost:8080/",
          "height": 472
        },
        "id": "a8d28539",
        "outputId": "ec8db021-345e-4548-e11a-3465d6c80398"
      },
      "outputs": [
        {
          "output_type": "display_data",
          "data": {
            "text/plain": [
              "<Figure size 640x480 with 1 Axes>"
            ],
            "image/png": "[encoded data removed]"
          },
          "metadata": {}
        }
      ],
      "source": [
        "t = np.arange(0, iters)\n",
        "plt.plot(t,costs)\n",
        "plt.xlabel(\"iterations\")\n",
        "plt.ylabel(\"cost\")\n",
        "plt.title(\"iterations vs cost\")\n",
        "\n",
        "plt.show()"
      ]
    },
    {
      "cell_type": "markdown",
      "id": "f708d875",
      "metadata": {
        "id": "f708d875"
      },
      "source": [
        "# Accuracy on train data"
      ]
    },
    {
      "cell_type": "code",
      "execution_count": 22,
      "id": "552cbb3a",
      "metadata": {
        "id": "552cbb3a"
      },
      "outputs": [],
      "source": [
        "y_pred,_ = forward_propagation(X, parameters)\n",
        "    \n",
        "    \n",
        "    \n",
        "y = np.argmax(y, axis =0)\n",
        "y_pred = np.argmax(y_pred, axis = 0)"
      ]
    },
    {
      "cell_type": "code",
      "execution_count": 23,
      "id": "95f957ec",
      "metadata": {
        "colab": {
          "base_uri": "https://localhost:8080/"
        },
        "id": "95f957ec",
        "outputId": "50efaab8-e4ee-496e-8bb6-5707f5676274"
      },
      "outputs": [
        {
          "output_type": "stream",
          "name": "stdout",
          "text": [
            "17135\n"
          ]
        }
      ],
      "source": [
        "count=0\n",
        "for i in range(m):\n",
        "    \n",
        "    if y[i] ==y_pred[i]:\n",
        "        count+=1 \n",
        "print(count)"
      ]
    },
    {
      "cell_type": "code",
      "execution_count": 24,
      "id": "e27f542d",
      "metadata": {
        "colab": {
          "base_uri": "https://localhost:8080/"
        },
        "id": "e27f542d",
        "outputId": "82b5e326-1a74-4b78-ca31-fd6e3bd9b468"
      },
      "outputs": [
        {
          "output_type": "stream",
          "name": "stdout",
          "text": [
            "Accuracy on train data = 85.675%\n"
          ]
        }
      ],
      "source": [
        "accuracy=(count/m)*100\n",
        "print('Accuracy on train data = '+str(accuracy)+'%')"
      ]
    },
    {
      "cell_type": "code",
      "execution_count": 24,
      "id": "67d26c0e",
      "metadata": {
        "id": "67d26c0e"
      },
      "outputs": [],
      "source": []
    },
    {
      "cell_type": "markdown",
      "id": "a95cd73d",
      "metadata": {
        "id": "a95cd73d"
      },
      "source": [
        "# Accuracy on test data "
      ]
    },
    {
      "cell_type": "code",
      "execution_count": 24,
      "id": "498994d8",
      "metadata": {
        "id": "498994d8"
      },
      "outputs": [],
      "source": []
    },
    {
      "cell_type": "code",
      "execution_count": 25,
      "id": "4d266dd7",
      "metadata": {
        "colab": {
          "base_uri": "https://localhost:8080/"
        },
        "id": "4d266dd7",
        "outputId": "9f069193-e6f2-4419-bcbf-4cfeeea5140e"
      },
      "outputs": [
        {
          "output_type": "execute_result",
          "data": {
            "text/plain": [
              "(10000, 1)"
            ]
          },
          "metadata": {},
          "execution_count": 25
        }
      ],
      "source": [
        "x_test = data.iloc[20000:,2:786].values\n",
        "m_test,n_test=x_test.shape\n",
        "y_test=data.iloc[20000:,1].values\n",
        "y_test = y_test.reshape(y_test.shape[0],1)\n",
        "y_test.shape"
      ]
    },
    {
      "cell_type": "code",
      "execution_count": 26,
      "id": "b255adf0",
      "metadata": {
        "id": "b255adf0"
      },
      "outputs": [],
      "source": [
        "mu     = np.mean(x_test,axis=0)   \n",
        "sigma  = np.std(x,axis=0) \n",
        "x_mean = (x_test - mu)\n",
        "x_norm_test = (x_test - mu)/sigma\n",
        "x_test=x_norm_test.T"
      ]
    },
    {
      "cell_type": "code",
      "execution_count": 27,
      "id": "7ef27f18",
      "metadata": {
        "id": "7ef27f18"
      },
      "outputs": [],
      "source": [
        "y_pred_test,_ = forward_propagation(x_test, parameters)\n",
        "    \n",
        "    \n",
        "    \n",
        "# y = np.argmax(y, axis =0)\n",
        "y_pred_test = np.argmax(y_pred_test, axis = 0)"
      ]
    },
    {
      "cell_type": "code",
      "execution_count": 28,
      "id": "b67c0a42",
      "metadata": {
        "colab": {
          "base_uri": "https://localhost:8080/"
        },
        "id": "b67c0a42",
        "outputId": "605193ca-6ba7-45c9-a57c-1e949dadca50"
      },
      "outputs": [
        {
          "output_type": "stream",
          "name": "stdout",
          "text": [
            "8454\n"
          ]
        }
      ],
      "source": [
        "count=0\n",
        "for i in range(m_test):\n",
        "    \n",
        "    if y_pred_test[i] ==y_test[i]:\n",
        "        count+=1 \n",
        "print(count)"
      ]
    },
    {
      "cell_type": "code",
      "execution_count": 29,
      "id": "62e202e4",
      "metadata": {
        "colab": {
          "base_uri": "https://localhost:8080/"
        },
        "id": "62e202e4",
        "outputId": "f5ca2d75-9a2f-4fe4-bc29-d1dab76e42ce"
      },
      "outputs": [
        {
          "output_type": "stream",
          "name": "stdout",
          "text": [
            "Accuracy on test data = 84.54%\n"
          ]
        }
      ],
      "source": [
        "accuracy=(count/m_test)*100\n",
        "print('Accuracy on test data = '+str(accuracy)+'%')"
      ]
    },
    {
      "cell_type": "code",
      "source": [],
      "metadata": {
        "id": "N3ceyHFPIA3U"
      },
      "id": "N3ceyHFPIA3U",
      "execution_count": null,
      "outputs": []
    }
  ],
  "metadata": {
    "kernelspec": {
      "display_name": "Python 3 (ipykernel)",
      "language": "python",
      "name": "python3"
    },
    "language_info": {
      "codemirror_mode": {
        "name": "ipython",
        "version": 3
      },
      "file_extension": ".py",
      "mimetype": "text/x-python",
      "name": "python",
      "nbconvert_exporter": "python",
      "pygments_lexer": "ipython3",
      "version": "3.11.2"
    },
    "colab": {
      "provenance": []
    }
  },
  "nbformat": 4,
  "nbformat_minor": 5
}