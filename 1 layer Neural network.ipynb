{
 "cells": [
  {
   "cell_type": "code",
   "execution_count": 1,
   "id": "a92a60f4",
   "metadata": {},
   "outputs": [],
   "source": [
    "import pandas as pd\n",
    "import numpy as np\n",
    "import matplotlib.pyplot as plt"
   ]
  },
  {
   "cell_type": "markdown",
   "id": "1204de5f",
   "metadata": {},
   "source": [
    "# Loading data"
   ]
  },
  {
   "cell_type": "code",
   "execution_count": 2,
   "id": "30b3e018",
   "metadata": {},
   "outputs": [],
   "source": [
    "data = pd.read_csv('classification_train.csv')"
   ]
  },
  {
   "cell_type": "code",
   "execution_count": 3,
   "id": "18427745",
   "metadata": {},
   "outputs": [],
   "source": [
    "#importing dataset\n",
    "data = pd.read_csv('classification_train.csv')\n",
    "x = data.iloc[:20000,2:786].values\n",
    "\n",
    "y = data.iloc[:20000,1].values\n",
    "y = y.reshape(y.shape[0],1)"
   ]
  },
  {
   "cell_type": "code",
   "execution_count": 4,
   "id": "50bf4872",
   "metadata": {},
   "outputs": [
    {
     "data": {
      "text/plain": [
       "((20000, 784), (20000, 1))"
      ]
     },
     "execution_count": 4,
     "metadata": {},
     "output_type": "execute_result"
    }
   ],
   "source": [
    "m, n = x.shape\n",
    "x.shape,y.shape "
   ]
  },
  {
   "cell_type": "code",
   "execution_count": 5,
   "id": "536bae94",
   "metadata": {},
   "outputs": [
    {
     "data": {
      "text/plain": [
       "(784, 20000)"
      ]
     },
     "execution_count": 5,
     "metadata": {},
     "output_type": "execute_result"
    }
   ],
   "source": [
    "mu     = np.mean(x,axis=0)   \n",
    "sigma  = np.std(x,axis=0) \n",
    "x_mean = (x - mu)\n",
    "x_norm = (x - mu)/sigma\n",
    "X=x_norm.T\n",
    "X.shape"
   ]
  },
  {
   "cell_type": "code",
   "execution_count": 6,
   "id": "ca1aa193",
   "metadata": {},
   "outputs": [
    {
     "data": {
      "text/plain": [
       "array([[0., 0., 0., ..., 0., 0., 0.],\n",
       "       [0., 0., 1., ..., 0., 0., 0.],\n",
       "       [0., 0., 0., ..., 0., 1., 0.],\n",
       "       ...,\n",
       "       [0., 0., 0., ..., 0., 0., 0.],\n",
       "       [1., 0., 0., ..., 0., 0., 0.],\n",
       "       [0., 0., 0., ..., 0., 0., 1.]])"
      ]
     },
     "execution_count": 6,
     "metadata": {},
     "output_type": "execute_result"
    }
   ],
   "source": [
    "\"\"\" Y: onehot encoded \"\"\"\n",
    "unique_values=(np.unique(y))\n",
    "Y=np.zeros((m,len(unique_values)))\n",
    "for i in range(m):\n",
    "    for j in range(len(unique_values)):\n",
    "        if y[i][0]==unique_values[j]: Y[i][unique_values[j]]=1 \n",
    "\n",
    "y=Y.T\n",
    "y.shape,y\n",
    "y"
   ]
  },
  {
   "cell_type": "markdown",
   "id": "e8ac2a11",
   "metadata": {},
   "source": [
    "# Activation functions "
   ]
  },
  {
   "cell_type": "code",
   "execution_count": 7,
   "id": "7cc96d3e",
   "metadata": {},
   "outputs": [],
   "source": [
    "def relu(x):\n",
    "    return np.maximum(x, 0)\n",
    "\n",
    "def softmax(x):\n",
    "    expX = np.exp(x)\n",
    "    return expX/np.sum(expX, axis = 0)"
   ]
  },
  {
   "cell_type": "code",
   "execution_count": 8,
   "id": "a906c02f",
   "metadata": {},
   "outputs": [],
   "source": [
    "def derivative_relu(x):\n",
    "    return np.array(x > 0, dtype = np.float32)\n"
   ]
  },
  {
   "cell_type": "code",
   "execution_count": null,
   "id": "fd2c2664",
   "metadata": {},
   "outputs": [],
   "source": []
  },
  {
   "cell_type": "markdown",
   "id": "8a35bd0c",
   "metadata": {},
   "source": [
    "# Initialize Parameters"
   ]
  },
  {
   "cell_type": "code",
   "execution_count": 9,
   "id": "3645aed7",
   "metadata": {},
   "outputs": [],
   "source": [
    "def initialize_parameters(n, n_1, n_2):\n",
    "   \n",
    "    w1 = np.random.randn(n_1, n)*0.01\n",
    "    b1 = np.zeros((n_1, 1))\n",
    "    \n",
    "    \n",
    "    w2 = np.random.randn(n_2, n_1)*0.01\n",
    "    b2 = np.zeros((n_2, 1))\n",
    "    \n",
    "    parameters = {\n",
    "        \"w1\" : w1,\n",
    "        \"b1\" : b1,\n",
    "        \"w2\" : w2,\n",
    "        \"b2\" : b2\n",
    "    }\n",
    "    \n",
    "  \n",
    "    \n",
    "    return parameters"
   ]
  },
  {
   "cell_type": "code",
   "execution_count": null,
   "id": "af0c2a5e",
   "metadata": {},
   "outputs": [],
   "source": []
  },
  {
   "cell_type": "markdown",
   "id": "47e49c80",
   "metadata": {},
   "source": [
    "# Forward propagation"
   ]
  },
  {
   "cell_type": "code",
   "execution_count": 10,
   "id": "69079d7e",
   "metadata": {},
   "outputs": [],
   "source": [
    "def forward_propagation(x, parameters):\n",
    "    \n",
    "    w1 = parameters['w1']\n",
    "    b1 = parameters['b1']\n",
    "    w2 = parameters['w2']\n",
    "    b2 = parameters['b2']\n",
    "    \n",
    "\n",
    "    z1 = np.dot(w1, x) + b1\n",
    "    a1 = relu(z1)\n",
    "    \n",
    "    z2 = np.dot(w2, a1) + b2\n",
    "    a2 = softmax(z2)\n",
    "    \n",
    "    forward_prop = {\n",
    "        \"z1\" : z1,\n",
    "        \"a1\" : a1,\n",
    "        \"z2\" : z2,\n",
    "        \"a2\" : a2\n",
    "    }\n",
    "    \n",
    "    return forward_prop"
   ]
  },
  {
   "cell_type": "code",
   "execution_count": null,
   "id": "ecd95f2f",
   "metadata": {},
   "outputs": [],
   "source": []
  },
  {
   "cell_type": "markdown",
   "id": "f216c257",
   "metadata": {},
   "source": [
    "# Cost Function"
   ]
  },
  {
   "cell_type": "code",
   "execution_count": 11,
   "id": "b60d9e22",
   "metadata": {},
   "outputs": [],
   "source": [
    "def cost_function(a2, y):\n",
    "    \n",
    "    cost = -(1/m)*np.sum(y*np.log(a2))\n",
    "    \n",
    "    \n",
    "    return cost"
   ]
  },
  {
   "cell_type": "code",
   "execution_count": null,
   "id": "c9982c56",
   "metadata": {},
   "outputs": [],
   "source": []
  },
  {
   "cell_type": "markdown",
   "id": "f58c285c",
   "metadata": {},
   "source": [
    "# Backpropagation"
   ]
  },
  {
   "cell_type": "code",
   "execution_count": 12,
   "id": "baa383fe",
   "metadata": {},
   "outputs": [],
   "source": [
    "def backward_prop(x, y, parameters, forward_prop):\n",
    "    \n",
    "    w1 = parameters['w1']\n",
    "    b1 = parameters['b1']\n",
    "    w2 = parameters['w2']\n",
    "    b2 = parameters['b2']\n",
    "    \n",
    "    a1 = forward_prop['a1']\n",
    "    a2 = forward_prop['a2']\n",
    "    z1 = forward_prop['z1']\n",
    "    \n",
    "    dz2 = (a2 - y)\n",
    "    dw2 = (1/m)*np.dot(dz2, a1.T)\n",
    "    db2 = (1/m)*np.sum(dz2, axis = 1, keepdims = True)\n",
    "    \n",
    "    dz1 = (1/m)*np.dot(w2.T, dz2)*derivative_relu(z1)\n",
    "    dw1 = (1/m)*np.dot(dz1, x.T)\n",
    "    db1 = (1/m)*np.sum(dz1, axis = 1, keepdims = True)\n",
    "    \n",
    "    gradients = {\n",
    "        \"dw1\" : dw1,\n",
    "        \"db1\" : db1,\n",
    "        \"dw2\" : dw2,\n",
    "        \"db2\" : db2\n",
    "    }\n",
    "    \n",
    "    return gradients"
   ]
  },
  {
   "cell_type": "code",
   "execution_count": null,
   "id": "8dac1d2b",
   "metadata": {},
   "outputs": [],
   "source": []
  },
  {
   "cell_type": "markdown",
   "id": "bdefed55",
   "metadata": {},
   "source": [
    "# Gradient descent"
   ]
  },
  {
   "cell_type": "code",
   "execution_count": 13,
   "id": "6e0643b3",
   "metadata": {},
   "outputs": [],
   "source": [
    "def model(x, y, n_1, learning_rate, iterations):\n",
    "    \n",
    "    \n",
    "    cost_list = []\n",
    "    \n",
    "    parameters = initialize_parameters(n, n_1, n_2)\n",
    "    \n",
    "    for i in range(iterations):\n",
    "        \n",
    "        forward_prop = forward_propagation(x, parameters)\n",
    "        \n",
    "        cost = cost_function(forward_prop['a2'], y)\n",
    "        \n",
    "        gradients = backward_prop(x, y, parameters, forward_prop)\n",
    "    \n",
    "        \n",
    "        w1 = parameters['w1']\n",
    "        b1 = parameters['b1']\n",
    "        w2 = parameters['w2']\n",
    "        b2 = parameters['b2']\n",
    "    \n",
    "        dw1 = gradients['dw1']\n",
    "        db1 = gradients['db1']\n",
    "        dw2 = gradients['dw2']\n",
    "        db2 = gradients['db2']\n",
    "    \n",
    "        w1 = w1 - learning_rate*dw1\n",
    "        b1 = b1 - learning_rate*db1\n",
    "        w2 = w2 - learning_rate*dw2\n",
    "        b2 = b2 - learning_rate*db2\n",
    "    \n",
    "        parameters = {\n",
    "                       \"w1\" : w1,\n",
    "                       \"b1\" : b1,\n",
    "                       \"w2\" : w2,\n",
    "                       \"b2\" : b2\n",
    "                           }\n",
    "        cost_list.append(cost)\n",
    "        \n",
    "        if(i%(iterations/10) == 0):\n",
    "            print(\"Cost after\", i, \"iterations is :\", cost)\n",
    "        \n",
    "    return parameters, cost_list"
   ]
  },
  {
   "cell_type": "code",
   "execution_count": 15,
   "id": "52b2a01a",
   "metadata": {},
   "outputs": [
    {
     "name": "stdout",
     "output_type": "stream",
     "text": [
      "Cost after 0 iterations is : 2.2993029403782925\n",
      "Cost after 100 iterations is : 1.1632100561162313\n",
      "Cost after 200 iterations is : 0.9375657373969889\n",
      "Cost after 300 iterations is : 0.8371888017208053\n",
      "Cost after 400 iterations is : 0.7774949654027181\n",
      "Cost after 500 iterations is : 0.736548339707958\n",
      "Cost after 600 iterations is : 0.7060031108420455\n",
      "Cost after 700 iterations is : 0.6819397705219984\n",
      "Cost after 800 iterations is : 0.6622495778054015\n",
      "Cost after 900 iterations is : 0.6456844272131924\n"
     ]
    }
   ],
   "source": [
    "iterations = 1000\n",
    "n_1 = 1000\n",
    "n_2 =10\n",
    "learning_rate = 0.04\n",
    "Parameters, Cost_list = model(X, y, n_1, learning_rate = learning_rate, iterations = iterations)"
   ]
  },
  {
   "cell_type": "code",
   "execution_count": 16,
   "id": "76ae49de",
   "metadata": {},
   "outputs": [
    {
     "data": {
      "image/png": "[encoded data removed]",
      "text/plain": [
       "<Figure size 640x480 with 1 Axes>"
      ]
     },
     "metadata": {},
     "output_type": "display_data"
    }
   ],
   "source": [
    "t = np.arange(0, iterations)\n",
    "plt.plot(t, Cost_list)\n",
    "plt.show()"
   ]
  },
  {
   "cell_type": "code",
   "execution_count": 18,
   "id": "3fafa560",
   "metadata": {},
   "outputs": [],
   "source": [
    "w1 = Parameters['w1']\n",
    "b1 = Parameters['b1']\n",
    "w2 = Parameters['w2']\n",
    "b2 = Parameters['b2']"
   ]
  },
  {
   "cell_type": "code",
   "execution_count": null,
   "id": "0e1f69ac",
   "metadata": {},
   "outputs": [],
   "source": []
  },
  {
   "cell_type": "markdown",
   "id": "3ca562f4",
   "metadata": {},
   "source": [
    "# Accuracy on test data"
   ]
  },
  {
   "cell_type": "code",
   "execution_count": 19,
   "id": "4f2789f9",
   "metadata": {},
   "outputs": [
    {
     "data": {
      "text/plain": [
       "(10000, 1)"
      ]
     },
     "execution_count": 19,
     "metadata": {},
     "output_type": "execute_result"
    }
   ],
   "source": [
    "x_test = data.iloc[20000:,2:786].values\n",
    "m_test,n_test=x_test.shape\n",
    "y_test=data.iloc[20000:,1].values\n",
    "y_test = y_test.reshape(y_test.shape[0],1)\n",
    "y_test.shape"
   ]
  },
  {
   "cell_type": "code",
   "execution_count": 20,
   "id": "4f17f4b2",
   "metadata": {},
   "outputs": [],
   "source": [
    "mu     = np.mean(x_test,axis=0)   \n",
    "sigma  = np.std(x,axis=0) \n",
    "x_mean = (x_test - mu)\n",
    "x_norm_test = (x_test - mu)/sigma\n",
    "x_test=x_norm_test.T"
   ]
  },
  {
   "cell_type": "code",
   "execution_count": 21,
   "id": "5ee4f2a1",
   "metadata": {},
   "outputs": [],
   "source": [
    "z1_test = np.dot(w1, x_test) + b1\n",
    "a1_test = relu(z1_test)\n",
    "    \n",
    "z2_test = np.dot(w2, a1_test) + b2\n",
    "# a2_test = softmax(z2_test)"
   ]
  },
  {
   "cell_type": "code",
   "execution_count": 22,
   "id": "7618db09",
   "metadata": {},
   "outputs": [
    {
     "data": {
      "text/plain": [
       "(10000, 1)"
      ]
     },
     "execution_count": 22,
     "metadata": {},
     "output_type": "execute_result"
    }
   ],
   "source": [
    "pred_test=np.argmax(z2_test, axis=0)\n",
    "pred_test = pred_test.reshape(pred_test.shape[0],1)\n",
    "pred_test.shape"
   ]
  },
  {
   "cell_type": "code",
   "execution_count": 23,
   "id": "5b06871a",
   "metadata": {},
   "outputs": [
    {
     "name": "stdout",
     "output_type": "stream",
     "text": [
      "7946\n"
     ]
    }
   ],
   "source": [
    "count=0\n",
    "for i in range(m_test):\n",
    "    \n",
    "    if y_test[i,0] ==pred_test[i,0]:\n",
    "        count+=1 \n",
    "print(count)"
   ]
  },
  {
   "cell_type": "code",
   "execution_count": 24,
   "id": "7a675499",
   "metadata": {},
   "outputs": [
    {
     "name": "stdout",
     "output_type": "stream",
     "text": [
      "Accuracy on test data = 79.46%\n"
     ]
    }
   ],
   "source": [
    "accuracy=(count/m_test)*100\n",
    "print('Accuracy on test data = '+str(accuracy)+'%')"
   ]
  },
  {
   "cell_type": "code",
   "execution_count": null,
   "id": "87820bbe",
   "metadata": {},
   "outputs": [],
   "source": []
  },
  {
   "cell_type": "code",
   "execution_count": null,
   "id": "c042c08d",
   "metadata": {},
   "outputs": [],
   "source": []
  },
  {
   "cell_type": "code",
   "execution_count": null,
   "id": "9aa2a272",
   "metadata": {},
   "outputs": [],
   "source": []
  },
  {
   "cell_type": "code",
   "execution_count": null,
   "id": "053d956b",
   "metadata": {},
   "outputs": [],
   "source": []
  }
 ],
 "metadata": {
  "kernelspec": {
   "display_name": "Python 3 (ipykernel)",
   "language": "python",
   "name": "python3"
  },
  "language_info": {
   "codemirror_mode": {
    "name": "ipython",
    "version": 3
   },
   "file_extension": ".py",
   "mimetype": "text/x-python",
   "name": "python",
   "nbconvert_exporter": "python",
   "pygments_lexer": "ipython3",
   "version": "3.11.2"
  }
 },
 "nbformat": 4,
 "nbformat_minor": 5
}
