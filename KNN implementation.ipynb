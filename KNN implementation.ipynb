{
 "cells": [
  {
   "cell_type": "code",
   "execution_count": 1,
   "id": "20d7cb46",
   "metadata": {},
   "outputs": [],
   "source": [
    "import pandas as pd\n",
    "import numpy as np\n",
    "\n",
    "import matplotlib.pyplot as plt\n",
    "import math\n",
    "\n",
    "import random\n"
   ]
  },
  {
   "cell_type": "markdown",
   "id": "cdbac44e",
   "metadata": {},
   "source": [
    "# Importing train_data"
   ]
  },
  {
   "cell_type": "code",
   "execution_count": 2,
   "id": "9b657759",
   "metadata": {},
   "outputs": [],
   "source": [
    "#importing dataset\n",
    "data = pd.read_csv('classification_train.csv')"
   ]
  },
  {
   "cell_type": "markdown",
   "id": "6a1c688c",
   "metadata": {},
   "source": [
    "train = pd.read_csv('classification_train.csv',\n",
    "                   skiprows = lambda i: random.random() > 0.50)\n",
    "x = train.iloc[:,2:786].values\n",
    "\n",
    "\n",
    "y = train.iloc[:,1].values\n"
   ]
  },
  {
   "cell_type": "code",
   "execution_count": 3,
   "id": "d8c4d93a",
   "metadata": {},
   "outputs": [],
   "source": [
    "x = data.iloc[:20000,2:].values\n",
    "\n",
    "y = data.iloc[:20000,1].values\n",
    "y=y[np.newaxis,:] #y = y.reshape(y.shape[0],1)\n",
    "y=y.T"
   ]
  },
  {
   "cell_type": "code",
   "execution_count": 4,
   "id": "45ac099b",
   "metadata": {},
   "outputs": [
    {
     "data": {
      "text/plain": [
       "array([[0, 0, 0, ..., 0, 0, 0],\n",
       "       [0, 0, 0, ..., 0, 0, 0],\n",
       "       [0, 0, 0, ..., 0, 0, 0],\n",
       "       ...,\n",
       "       [0, 0, 0, ..., 0, 0, 0],\n",
       "       [0, 0, 0, ..., 0, 0, 0],\n",
       "       [0, 0, 0, ..., 0, 0, 0]], dtype=int64)"
      ]
     },
     "execution_count": 4,
     "metadata": {},
     "output_type": "execute_result"
    }
   ],
   "source": [
    "m,n=x.shape\n",
    "m,n"
   ]
  },
  {
   "cell_type": "code",
   "execution_count": 5,
   "id": "90541b22",
   "metadata": {},
   "outputs": [],
   "source": [
    "k=60"
   ]
  },
  {
   "cell_type": "markdown",
   "id": "bd10df07",
   "metadata": {},
   "source": [
    "# DEFINE x2 as test data"
   ]
  },
  {
   "cell_type": "code",
   "execution_count": 6,
   "id": "0b5b2e11",
   "metadata": {},
   "outputs": [
    {
     "data": {
      "text/plain": [
       "(10000, 784)"
      ]
     },
     "execution_count": 6,
     "metadata": {},
     "output_type": "execute_result"
    }
   ],
   "source": [
    "\n",
    "\n",
    "#x2=data_pred.iloc[:,1:].values\n",
    "x2 = data.iloc[20000:,2:].values\n",
    "M,N=x2.shape\n",
    "M,N"
   ]
  },
  {
   "cell_type": "markdown",
   "id": "304ff6d0",
   "metadata": {},
   "source": [
    "distance_j = np.sum((x-x2[3,:])**2,axis=0)\n",
    "distance_j.shape"
   ]
  },
  {
   "cell_type": "markdown",
   "id": "2dab3b77",
   "metadata": {},
   "source": [
    "# Step1 distance"
   ]
  },
  {
   "cell_type": "code",
   "execution_count": 7,
   "id": "e68ea6ac",
   "metadata": {},
   "outputs": [],
   "source": [
    "def Euclidean_distance():\n",
    "    distance=np.zeros((m,M))    \n",
    "    for j in range(M):\n",
    "        \n",
    "        distance[:,j]=np.sqrt(np.sum((x-x2[j,:])**2,axis=1))\n",
    "        \n",
    "    return distance\n",
    "Euclidean_distance=Euclidean_distance()"
   ]
  },
  {
   "cell_type": "code",
   "execution_count": 8,
   "id": "328d4152",
   "metadata": {},
   "outputs": [
    {
     "data": {
      "text/plain": [
       "(20000, 10000)"
      ]
     },
     "execution_count": 8,
     "metadata": {},
     "output_type": "execute_result"
    }
   ],
   "source": [
    "Euclidean_distance.shape"
   ]
  },
  {
   "cell_type": "markdown",
   "id": "e284c4c0",
   "metadata": {},
   "source": [
    "# Sorting and finding labels"
   ]
  },
  {
   "cell_type": "code",
   "execution_count": 9,
   "id": "032bfdc7",
   "metadata": {},
   "outputs": [],
   "source": [
    "KNN_PRED_FINAL=[]\n",
    "\n",
    "for j in range(M):\n",
    "    c=(Euclidean_distance[:,j]).reshape(m,1)\n",
    "    distance_label=np.concatenate((c,y.reshape(m,1)), axis=1)\n",
    "    k_sorted=(distance_label[distance_label[:, 0].argsort()])[0:k,:]\n",
    "    \n",
    "    b=(np.unique(y))\n",
    "    count=np.zeros((len(b),1))\n",
    "    for i in range(k):\n",
    "        for j in range(len(b)):\n",
    "            if k_sorted[i,1]==b[j]:    count[b[j],0]+=1\n",
    "                \n",
    "#     pred_test=np.argmax(k_sorted)\n",
    "    KNN_PRED_FINAL.append(np.argmax(count))"
   ]
  },
  {
   "cell_type": "code",
   "execution_count": null,
   "id": "766c866c",
   "metadata": {},
   "outputs": [],
   "source": []
  },
  {
   "cell_type": "code",
   "execution_count": null,
   "id": "2871f67c",
   "metadata": {},
   "outputs": [],
   "source": []
  },
  {
   "cell_type": "markdown",
   "id": "14824f14",
   "metadata": {},
   "source": [
    "# Accuracy of test data"
   ]
  },
  {
   "cell_type": "code",
   "execution_count": 10,
   "id": "f1d30de9",
   "metadata": {},
   "outputs": [],
   "source": [
    "y_test = data.iloc[20000:,1].values"
   ]
  },
  {
   "cell_type": "code",
   "execution_count": 11,
   "id": "93e0d0cb",
   "metadata": {},
   "outputs": [
    {
     "name": "stdout",
     "output_type": "stream",
     "text": [
      "8105\n"
     ]
    }
   ],
   "source": [
    "count_pred=0\n",
    "for i in range(M):\n",
    "    \n",
    "    if y_test[i] == KNN_PRED_FINAL[i]:\n",
    "        count_pred+=1 \n",
    "print(count_pred)"
   ]
  },
  {
   "cell_type": "code",
   "execution_count": 12,
   "id": "cfa4df2b",
   "metadata": {},
   "outputs": [
    {
     "name": "stdout",
     "output_type": "stream",
     "text": [
      "Accuracy on test data = 81.05%\n"
     ]
    }
   ],
   "source": [
    "accuracy=(count_pred/M)*100\n",
    "print('Accuracy on test data = '+str(accuracy)+'%')"
   ]
  },
  {
   "cell_type": "code",
   "execution_count": null,
   "id": "f7ec5934",
   "metadata": {},
   "outputs": [],
   "source": []
  },
  {
   "cell_type": "code",
   "execution_count": null,
   "id": "62f91254",
   "metadata": {},
   "outputs": [],
   "source": []
  }
 ],
 "metadata": {
  "kernelspec": {
   "display_name": "Python 3 (ipykernel)",
   "language": "python",
   "name": "python3"
  },
  "language_info": {
   "codemirror_mode": {
    "name": "ipython",
    "version": 3
   },
   "file_extension": ".py",
   "mimetype": "text/x-python",
   "name": "python",
   "nbconvert_exporter": "python",
   "pygments_lexer": "ipython3",
   "version": "3.11.2"
  }
 },
 "nbformat": 4,
 "nbformat_minor": 5
}
